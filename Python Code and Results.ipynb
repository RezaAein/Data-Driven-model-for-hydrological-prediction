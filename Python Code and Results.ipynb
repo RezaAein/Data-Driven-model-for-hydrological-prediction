{
  "nbformat": 4,
  "nbformat_minor": 0,
  "metadata": {
    "colab": {
      "name": "Multi LSTM_GRU_Conv1.ipynb",
      "provenance": [],
      "collapsed_sections": []
    },
    "kernelspec": {
      "name": "python3",
      "display_name": "Python 3"
    },
    "language_info": {
      "name": "python"
    },
    "gpuClass": "standard"
  },
  "cells": [
    {
      "cell_type": "code",
      "execution_count": null,
      "metadata": {
        "id": "RGEyej4NjemO"
      },
      "outputs": [],
      "source": [
        "import pandas as pd\n",
        "import numpy as np"
      ]
    },
    {
      "cell_type": "code",
      "source": [
        "df=pd.read_excel('Total.xlsx')\n",
        "print(df)\n",
        "print(df.isnull().sum())"
      ],
      "metadata": {
        "id": "fUt0lKxdj0xD",
        "colab": {
          "base_uri": "https://localhost:8080/"
        },
        "outputId": "0d3c590a-74c7-4c23-8efb-90762f492d09"
      },
      "execution_count": null,
      "outputs": [
        {
          "output_type": "stream",
          "name": "stdout",
          "text": [
            "           Date  Max Temperature  Min Temperature  Precipitation      Wind  \\\n",
            "0    1981-03-21           32.129           15.476       0.000000  2.323745   \n",
            "1    1981-03-22           30.684           19.719       0.607683  2.686932   \n",
            "2    1981-03-23           32.564           19.376       4.067518  2.694658   \n",
            "3    1981-03-24           33.151           23.626       0.000000  5.599542   \n",
            "4    1981-03-25           30.615           24.187       0.000000  3.765550   \n",
            "...         ...              ...              ...            ...       ...   \n",
            "9293 2006-08-30           36.212           22.562       0.000000  3.287457   \n",
            "9294 2006-08-31           33.383           21.108       0.000000  3.459702   \n",
            "9295 2006-09-01           29.072           20.077       0.000000  4.218580   \n",
            "9296 2006-09-02           28.382           19.500       0.000000  3.563982   \n",
            "9297 2006-09-03           29.193           21.853       0.000000  2.148831   \n",
            "\n",
            "      Relative Humidity      Solar  tabkhir  debi  \n",
            "0              0.324832  22.450215      2.9  86.0  \n",
            "1              0.379659  21.654897      2.6  75.6  \n",
            "2              0.417122  19.871775      2.2  70.0  \n",
            "3              0.227993  15.473473      2.3  64.4  \n",
            "4              0.280895   9.735983      1.1  69.2  \n",
            "...                 ...        ...      ...   ...  \n",
            "9293           0.283509  16.164395      4.3  14.5  \n",
            "9294           0.361064  15.314678      4.2  13.9  \n",
            "9295           0.403175  15.526572      3.8  13.6  \n",
            "9296           0.412560  12.793954      3.8  13.1  \n",
            "9297           0.427153   8.625999      3.8  13.1  \n",
            "\n",
            "[9298 rows x 9 columns]\n",
            "Date                   0\n",
            "Max Temperature        0\n",
            "Min Temperature        0\n",
            "Precipitation          0\n",
            "Wind                   0\n",
            "Relative Humidity      0\n",
            "Solar                  0\n",
            "tabkhir              210\n",
            "debi                 168\n",
            "dtype: int64\n"
          ]
        }
      ]
    },
    {
      "cell_type": "code",
      "source": [
        "df['debi']=df['debi'].fillna(df['debi'].mean())\n",
        "df['tabkhir']=df['tabkhir'].fillna(df['tabkhir'].mean())"
      ],
      "metadata": {
        "id": "9W-H1mLQoa9m"
      },
      "execution_count": null,
      "outputs": []
    },
    {
      "cell_type": "code",
      "source": [
        "print(df.isnull().sum())"
      ],
      "metadata": {
        "colab": {
          "base_uri": "https://localhost:8080/"
        },
        "id": "WKOFKOaEqhvb",
        "outputId": "f9e235e3-6ae8-49e7-ce87-2023c285d029"
      },
      "execution_count": null,
      "outputs": [
        {
          "output_type": "stream",
          "name": "stdout",
          "text": [
            "Date                 0\n",
            "Max Temperature      0\n",
            "Min Temperature      0\n",
            "Precipitation        0\n",
            "Wind                 0\n",
            "Relative Humidity    0\n",
            "Solar                0\n",
            "tabkhir              0\n",
            "debi                 0\n",
            "dtype: int64\n"
          ]
        }
      ]
    },
    {
      "cell_type": "code",
      "source": [
        "df.index=pd.to_datetime(df['Date'], format='%d.%m.%Y %H:%M:%S')\n",
        "#df=df.resample('1d').mean()\n",
        "df[:26]"
      ],
      "metadata": {
        "colab": {
          "base_uri": "https://localhost:8080/",
          "height": 896
        },
        "id": "d1psj95Uljg-",
        "outputId": "6aceace6-bc7a-46b7-c79e-7012a3358ea0"
      },
      "execution_count": null,
      "outputs": [
        {
          "output_type": "execute_result",
          "data": {
            "text/plain": [
              "                 Date  Max Temperature  Min Temperature  Precipitation  \\\n",
              "Date                                                                     \n",
              "1981-03-21 1981-03-21           32.129           15.476       0.000000   \n",
              "1981-03-22 1981-03-22           30.684           19.719       0.607683   \n",
              "1981-03-23 1981-03-23           32.564           19.376       4.067518   \n",
              "1981-03-24 1981-03-24           33.151           23.626       0.000000   \n",
              "1981-03-25 1981-03-25           30.615           24.187       0.000000   \n",
              "1981-03-26 1981-03-26           34.241           23.594       0.010300   \n",
              "1981-03-27 1981-03-27           32.454           22.348       2.628137   \n",
              "1981-03-28 1981-03-28           26.407           16.760       0.216293   \n",
              "1981-03-29 1981-03-29           26.675           13.771       0.000000   \n",
              "1981-03-30 1981-03-30           27.073           13.779       0.000000   \n",
              "1981-03-31 1981-03-31           27.487           15.461       0.000000   \n",
              "1981-04-01 1981-04-01           28.034           18.966       0.000000   \n",
              "1981-04-02 1981-04-02           21.815           13.962       0.000000   \n",
              "1981-04-03 1981-04-03           26.404           10.419       0.000000   \n",
              "1981-04-04 1981-04-04           32.454           13.107       0.000000   \n",
              "1981-04-05 1981-04-05           31.814           20.956       0.000000   \n",
              "1981-04-06 1981-04-06           31.209           17.485       0.000000   \n",
              "1981-04-07 1981-04-07           28.211           14.358       0.000000   \n",
              "1981-04-08 1981-04-08           30.422           15.673       0.000000   \n",
              "1981-04-09 1981-04-09           35.213           22.777       0.199127   \n",
              "1981-04-10 1981-04-10           36.891           21.935       0.000000   \n",
              "1981-04-11 1981-04-11           39.394           24.970       0.000000   \n",
              "1981-04-12 1981-04-12           37.412           23.223       0.000000   \n",
              "1981-04-13 1981-04-13           35.754           20.391       0.000000   \n",
              "1981-04-14 1981-04-14           34.238           21.522       0.000000   \n",
              "1981-04-15 1981-04-15           38.640           20.022       0.000000   \n",
              "\n",
              "                Wind  Relative Humidity      Solar  tabkhir   debi  \n",
              "Date                                                                \n",
              "1981-03-21  2.323745           0.324832  22.450215      2.9   86.0  \n",
              "1981-03-22  2.686932           0.379659  21.654897      2.6   75.6  \n",
              "1981-03-23  2.694658           0.417122  19.871775      2.2   70.0  \n",
              "1981-03-24  5.599542           0.227993  15.473473      2.3   64.4  \n",
              "1981-03-25  3.765550           0.280895   9.735983      1.1   69.2  \n",
              "1981-03-26  3.983169           0.257697  12.637855      3.2  100.4  \n",
              "1981-03-27  6.124588           0.388769  15.183904      3.1   65.2  \n",
              "1981-03-28  3.668931           0.478403  25.116414      0.6  104.4  \n",
              "1981-03-29  3.811978           0.393696  25.211250      2.7  172.0  \n",
              "1981-03-30  3.153812           0.400665  25.432034      3.2   94.0  \n",
              "1981-03-31  3.047504           0.379642   7.976363      3.1   70.8  \n",
              "1981-04-01  4.192107           0.403724  25.089976      2.6   62.8  \n",
              "1981-04-02  5.162050           0.291272  26.666383      3.1   59.6  \n",
              "1981-04-03  2.814008           0.252041  26.657712      4.4   56.6  \n",
              "1981-04-04  2.873711           0.230675  14.308937      4.4   53.0  \n",
              "1981-04-05  2.475858           0.247066  25.790736      3.9   53.0  \n",
              "1981-04-06  4.369930           0.234498  26.689669      4.7   47.5  \n",
              "1981-04-07  3.229281           0.292964  27.066491      4.5   45.0  \n",
              "1981-04-08  2.663273           0.253476  15.233066      3.5   44.0  \n",
              "1981-04-09  3.331155           0.263048  23.036345      4.4   43.0  \n",
              "1981-04-10  2.332026           0.253546  20.300742      5.1   39.5  \n",
              "1981-04-11  6.522251           0.178936  23.940391      4.9   37.0  \n",
              "1981-04-12  2.953299           0.225585  21.448239      4.8   35.5  \n",
              "1981-04-13  3.875557           0.195670  27.079824      4.7   34.0  \n",
              "1981-04-14  4.598120           0.180438  26.756836      4.5   31.5  \n",
              "1981-04-15  2.670020           0.173620  26.207879      5.2   30.0  "
            ],
            "text/html": [
              "\n",
              "  <div id=\"df-8dbd255e-88d0-42b8-98b8-386fba44c55f\">\n",
              "    <div class=\"colab-df-container\">\n",
              "      <div>\n",
              "<style scoped>\n",
              "    .dataframe tbody tr th:only-of-type {\n",
              "        vertical-align: middle;\n",
              "    }\n",
              "\n",
              "    .dataframe tbody tr th {\n",
              "        vertical-align: top;\n",
              "    }\n",
              "\n",
              "    .dataframe thead th {\n",
              "        text-align: right;\n",
              "    }\n",
              "</style>\n",
              "<table border=\"1\" class=\"dataframe\">\n",
              "  <thead>\n",
              "    <tr style=\"text-align: right;\">\n",
              "      <th></th>\n",
              "      <th>Date</th>\n",
              "      <th>Max Temperature</th>\n",
              "      <th>Min Temperature</th>\n",
              "      <th>Precipitation</th>\n",
              "      <th>Wind</th>\n",
              "      <th>Relative Humidity</th>\n",
              "      <th>Solar</th>\n",
              "      <th>tabkhir</th>\n",
              "      <th>debi</th>\n",
              "    </tr>\n",
              "    <tr>\n",
              "      <th>Date</th>\n",
              "      <th></th>\n",
              "      <th></th>\n",
              "      <th></th>\n",
              "      <th></th>\n",
              "      <th></th>\n",
              "      <th></th>\n",
              "      <th></th>\n",
              "      <th></th>\n",
              "      <th></th>\n",
              "    </tr>\n",
              "  </thead>\n",
              "  <tbody>\n",
              "    <tr>\n",
              "      <th>1981-03-21</th>\n",
              "      <td>1981-03-21</td>\n",
              "      <td>32.129</td>\n",
              "      <td>15.476</td>\n",
              "      <td>0.000000</td>\n",
              "      <td>2.323745</td>\n",
              "      <td>0.324832</td>\n",
              "      <td>22.450215</td>\n",
              "      <td>2.9</td>\n",
              "      <td>86.0</td>\n",
              "    </tr>\n",
              "    <tr>\n",
              "      <th>1981-03-22</th>\n",
              "      <td>1981-03-22</td>\n",
              "      <td>30.684</td>\n",
              "      <td>19.719</td>\n",
              "      <td>0.607683</td>\n",
              "      <td>2.686932</td>\n",
              "      <td>0.379659</td>\n",
              "      <td>21.654897</td>\n",
              "      <td>2.6</td>\n",
              "      <td>75.6</td>\n",
              "    </tr>\n",
              "    <tr>\n",
              "      <th>1981-03-23</th>\n",
              "      <td>1981-03-23</td>\n",
              "      <td>32.564</td>\n",
              "      <td>19.376</td>\n",
              "      <td>4.067518</td>\n",
              "      <td>2.694658</td>\n",
              "      <td>0.417122</td>\n",
              "      <td>19.871775</td>\n",
              "      <td>2.2</td>\n",
              "      <td>70.0</td>\n",
              "    </tr>\n",
              "    <tr>\n",
              "      <th>1981-03-24</th>\n",
              "      <td>1981-03-24</td>\n",
              "      <td>33.151</td>\n",
              "      <td>23.626</td>\n",
              "      <td>0.000000</td>\n",
              "      <td>5.599542</td>\n",
              "      <td>0.227993</td>\n",
              "      <td>15.473473</td>\n",
              "      <td>2.3</td>\n",
              "      <td>64.4</td>\n",
              "    </tr>\n",
              "    <tr>\n",
              "      <th>1981-03-25</th>\n",
              "      <td>1981-03-25</td>\n",
              "      <td>30.615</td>\n",
              "      <td>24.187</td>\n",
              "      <td>0.000000</td>\n",
              "      <td>3.765550</td>\n",
              "      <td>0.280895</td>\n",
              "      <td>9.735983</td>\n",
              "      <td>1.1</td>\n",
              "      <td>69.2</td>\n",
              "    </tr>\n",
              "    <tr>\n",
              "      <th>1981-03-26</th>\n",
              "      <td>1981-03-26</td>\n",
              "      <td>34.241</td>\n",
              "      <td>23.594</td>\n",
              "      <td>0.010300</td>\n",
              "      <td>3.983169</td>\n",
              "      <td>0.257697</td>\n",
              "      <td>12.637855</td>\n",
              "      <td>3.2</td>\n",
              "      <td>100.4</td>\n",
              "    </tr>\n",
              "    <tr>\n",
              "      <th>1981-03-27</th>\n",
              "      <td>1981-03-27</td>\n",
              "      <td>32.454</td>\n",
              "      <td>22.348</td>\n",
              "      <td>2.628137</td>\n",
              "      <td>6.124588</td>\n",
              "      <td>0.388769</td>\n",
              "      <td>15.183904</td>\n",
              "      <td>3.1</td>\n",
              "      <td>65.2</td>\n",
              "    </tr>\n",
              "    <tr>\n",
              "      <th>1981-03-28</th>\n",
              "      <td>1981-03-28</td>\n",
              "      <td>26.407</td>\n",
              "      <td>16.760</td>\n",
              "      <td>0.216293</td>\n",
              "      <td>3.668931</td>\n",
              "      <td>0.478403</td>\n",
              "      <td>25.116414</td>\n",
              "      <td>0.6</td>\n",
              "      <td>104.4</td>\n",
              "    </tr>\n",
              "    <tr>\n",
              "      <th>1981-03-29</th>\n",
              "      <td>1981-03-29</td>\n",
              "      <td>26.675</td>\n",
              "      <td>13.771</td>\n",
              "      <td>0.000000</td>\n",
              "      <td>3.811978</td>\n",
              "      <td>0.393696</td>\n",
              "      <td>25.211250</td>\n",
              "      <td>2.7</td>\n",
              "      <td>172.0</td>\n",
              "    </tr>\n",
              "    <tr>\n",
              "      <th>1981-03-30</th>\n",
              "      <td>1981-03-30</td>\n",
              "      <td>27.073</td>\n",
              "      <td>13.779</td>\n",
              "      <td>0.000000</td>\n",
              "      <td>3.153812</td>\n",
              "      <td>0.400665</td>\n",
              "      <td>25.432034</td>\n",
              "      <td>3.2</td>\n",
              "      <td>94.0</td>\n",
              "    </tr>\n",
              "    <tr>\n",
              "      <th>1981-03-31</th>\n",
              "      <td>1981-03-31</td>\n",
              "      <td>27.487</td>\n",
              "      <td>15.461</td>\n",
              "      <td>0.000000</td>\n",
              "      <td>3.047504</td>\n",
              "      <td>0.379642</td>\n",
              "      <td>7.976363</td>\n",
              "      <td>3.1</td>\n",
              "      <td>70.8</td>\n",
              "    </tr>\n",
              "    <tr>\n",
              "      <th>1981-04-01</th>\n",
              "      <td>1981-04-01</td>\n",
              "      <td>28.034</td>\n",
              "      <td>18.966</td>\n",
              "      <td>0.000000</td>\n",
              "      <td>4.192107</td>\n",
              "      <td>0.403724</td>\n",
              "      <td>25.089976</td>\n",
              "      <td>2.6</td>\n",
              "      <td>62.8</td>\n",
              "    </tr>\n",
              "    <tr>\n",
              "      <th>1981-04-02</th>\n",
              "      <td>1981-04-02</td>\n",
              "      <td>21.815</td>\n",
              "      <td>13.962</td>\n",
              "      <td>0.000000</td>\n",
              "      <td>5.162050</td>\n",
              "      <td>0.291272</td>\n",
              "      <td>26.666383</td>\n",
              "      <td>3.1</td>\n",
              "      <td>59.6</td>\n",
              "    </tr>\n",
              "    <tr>\n",
              "      <th>1981-04-03</th>\n",
              "      <td>1981-04-03</td>\n",
              "      <td>26.404</td>\n",
              "      <td>10.419</td>\n",
              "      <td>0.000000</td>\n",
              "      <td>2.814008</td>\n",
              "      <td>0.252041</td>\n",
              "      <td>26.657712</td>\n",
              "      <td>4.4</td>\n",
              "      <td>56.6</td>\n",
              "    </tr>\n",
              "    <tr>\n",
              "      <th>1981-04-04</th>\n",
              "      <td>1981-04-04</td>\n",
              "      <td>32.454</td>\n",
              "      <td>13.107</td>\n",
              "      <td>0.000000</td>\n",
              "      <td>2.873711</td>\n",
              "      <td>0.230675</td>\n",
              "      <td>14.308937</td>\n",
              "      <td>4.4</td>\n",
              "      <td>53.0</td>\n",
              "    </tr>\n",
              "    <tr>\n",
              "      <th>1981-04-05</th>\n",
              "      <td>1981-04-05</td>\n",
              "      <td>31.814</td>\n",
              "      <td>20.956</td>\n",
              "      <td>0.000000</td>\n",
              "      <td>2.475858</td>\n",
              "      <td>0.247066</td>\n",
              "      <td>25.790736</td>\n",
              "      <td>3.9</td>\n",
              "      <td>53.0</td>\n",
              "    </tr>\n",
              "    <tr>\n",
              "      <th>1981-04-06</th>\n",
              "      <td>1981-04-06</td>\n",
              "      <td>31.209</td>\n",
              "      <td>17.485</td>\n",
              "      <td>0.000000</td>\n",
              "      <td>4.369930</td>\n",
              "      <td>0.234498</td>\n",
              "      <td>26.689669</td>\n",
              "      <td>4.7</td>\n",
              "      <td>47.5</td>\n",
              "    </tr>\n",
              "    <tr>\n",
              "      <th>1981-04-07</th>\n",
              "      <td>1981-04-07</td>\n",
              "      <td>28.211</td>\n",
              "      <td>14.358</td>\n",
              "      <td>0.000000</td>\n",
              "      <td>3.229281</td>\n",
              "      <td>0.292964</td>\n",
              "      <td>27.066491</td>\n",
              "      <td>4.5</td>\n",
              "      <td>45.0</td>\n",
              "    </tr>\n",
              "    <tr>\n",
              "      <th>1981-04-08</th>\n",
              "      <td>1981-04-08</td>\n",
              "      <td>30.422</td>\n",
              "      <td>15.673</td>\n",
              "      <td>0.000000</td>\n",
              "      <td>2.663273</td>\n",
              "      <td>0.253476</td>\n",
              "      <td>15.233066</td>\n",
              "      <td>3.5</td>\n",
              "      <td>44.0</td>\n",
              "    </tr>\n",
              "    <tr>\n",
              "      <th>1981-04-09</th>\n",
              "      <td>1981-04-09</td>\n",
              "      <td>35.213</td>\n",
              "      <td>22.777</td>\n",
              "      <td>0.199127</td>\n",
              "      <td>3.331155</td>\n",
              "      <td>0.263048</td>\n",
              "      <td>23.036345</td>\n",
              "      <td>4.4</td>\n",
              "      <td>43.0</td>\n",
              "    </tr>\n",
              "    <tr>\n",
              "      <th>1981-04-10</th>\n",
              "      <td>1981-04-10</td>\n",
              "      <td>36.891</td>\n",
              "      <td>21.935</td>\n",
              "      <td>0.000000</td>\n",
              "      <td>2.332026</td>\n",
              "      <td>0.253546</td>\n",
              "      <td>20.300742</td>\n",
              "      <td>5.1</td>\n",
              "      <td>39.5</td>\n",
              "    </tr>\n",
              "    <tr>\n",
              "      <th>1981-04-11</th>\n",
              "      <td>1981-04-11</td>\n",
              "      <td>39.394</td>\n",
              "      <td>24.970</td>\n",
              "      <td>0.000000</td>\n",
              "      <td>6.522251</td>\n",
              "      <td>0.178936</td>\n",
              "      <td>23.940391</td>\n",
              "      <td>4.9</td>\n",
              "      <td>37.0</td>\n",
              "    </tr>\n",
              "    <tr>\n",
              "      <th>1981-04-12</th>\n",
              "      <td>1981-04-12</td>\n",
              "      <td>37.412</td>\n",
              "      <td>23.223</td>\n",
              "      <td>0.000000</td>\n",
              "      <td>2.953299</td>\n",
              "      <td>0.225585</td>\n",
              "      <td>21.448239</td>\n",
              "      <td>4.8</td>\n",
              "      <td>35.5</td>\n",
              "    </tr>\n",
              "    <tr>\n",
              "      <th>1981-04-13</th>\n",
              "      <td>1981-04-13</td>\n",
              "      <td>35.754</td>\n",
              "      <td>20.391</td>\n",
              "      <td>0.000000</td>\n",
              "      <td>3.875557</td>\n",
              "      <td>0.195670</td>\n",
              "      <td>27.079824</td>\n",
              "      <td>4.7</td>\n",
              "      <td>34.0</td>\n",
              "    </tr>\n",
              "    <tr>\n",
              "      <th>1981-04-14</th>\n",
              "      <td>1981-04-14</td>\n",
              "      <td>34.238</td>\n",
              "      <td>21.522</td>\n",
              "      <td>0.000000</td>\n",
              "      <td>4.598120</td>\n",
              "      <td>0.180438</td>\n",
              "      <td>26.756836</td>\n",
              "      <td>4.5</td>\n",
              "      <td>31.5</td>\n",
              "    </tr>\n",
              "    <tr>\n",
              "      <th>1981-04-15</th>\n",
              "      <td>1981-04-15</td>\n",
              "      <td>38.640</td>\n",
              "      <td>20.022</td>\n",
              "      <td>0.000000</td>\n",
              "      <td>2.670020</td>\n",
              "      <td>0.173620</td>\n",
              "      <td>26.207879</td>\n",
              "      <td>5.2</td>\n",
              "      <td>30.0</td>\n",
              "    </tr>\n",
              "  </tbody>\n",
              "</table>\n",
              "</div>\n",
              "      <button class=\"colab-df-convert\" onclick=\"convertToInteractive('df-8dbd255e-88d0-42b8-98b8-386fba44c55f')\"\n",
              "              title=\"Convert this dataframe to an interactive table.\"\n",
              "              style=\"display:none;\">\n",
              "        \n",
              "  <svg xmlns=\"http://www.w3.org/2000/svg\" height=\"24px\"viewBox=\"0 0 24 24\"\n",
              "       width=\"24px\">\n",
              "    <path d=\"M0 0h24v24H0V0z\" fill=\"none\"/>\n",
              "    <path d=\"M18.56 5.44l.94 2.06.94-2.06 2.06-.94-2.06-.94-.94-2.06-.94 2.06-2.06.94zm-11 1L8.5 8.5l.94-2.06 2.06-.94-2.06-.94L8.5 2.5l-.94 2.06-2.06.94zm10 10l.94 2.06.94-2.06 2.06-.94-2.06-.94-.94-2.06-.94 2.06-2.06.94z\"/><path d=\"M17.41 7.96l-1.37-1.37c-.4-.4-.92-.59-1.43-.59-.52 0-1.04.2-1.43.59L10.3 9.45l-7.72 7.72c-.78.78-.78 2.05 0 2.83L4 21.41c.39.39.9.59 1.41.59.51 0 1.02-.2 1.41-.59l7.78-7.78 2.81-2.81c.8-.78.8-2.07 0-2.86zM5.41 20L4 18.59l7.72-7.72 1.47 1.35L5.41 20z\"/>\n",
              "  </svg>\n",
              "      </button>\n",
              "      \n",
              "  <style>\n",
              "    .colab-df-container {\n",
              "      display:flex;\n",
              "      flex-wrap:wrap;\n",
              "      gap: 12px;\n",
              "    }\n",
              "\n",
              "    .colab-df-convert {\n",
              "      background-color: #E8F0FE;\n",
              "      border: none;\n",
              "      border-radius: 50%;\n",
              "      cursor: pointer;\n",
              "      display: none;\n",
              "      fill: #1967D2;\n",
              "      height: 32px;\n",
              "      padding: 0 0 0 0;\n",
              "      width: 32px;\n",
              "    }\n",
              "\n",
              "    .colab-df-convert:hover {\n",
              "      background-color: #E2EBFA;\n",
              "      box-shadow: 0px 1px 2px rgba(60, 64, 67, 0.3), 0px 1px 3px 1px rgba(60, 64, 67, 0.15);\n",
              "      fill: #174EA6;\n",
              "    }\n",
              "\n",
              "    [theme=dark] .colab-df-convert {\n",
              "      background-color: #3B4455;\n",
              "      fill: #D2E3FC;\n",
              "    }\n",
              "\n",
              "    [theme=dark] .colab-df-convert:hover {\n",
              "      background-color: #434B5C;\n",
              "      box-shadow: 0px 1px 3px 1px rgba(0, 0, 0, 0.15);\n",
              "      filter: drop-shadow(0px 1px 2px rgba(0, 0, 0, 0.3));\n",
              "      fill: #FFFFFF;\n",
              "    }\n",
              "  </style>\n",
              "\n",
              "      <script>\n",
              "        const buttonEl =\n",
              "          document.querySelector('#df-8dbd255e-88d0-42b8-98b8-386fba44c55f button.colab-df-convert');\n",
              "        buttonEl.style.display =\n",
              "          google.colab.kernel.accessAllowed ? 'block' : 'none';\n",
              "\n",
              "        async function convertToInteractive(key) {\n",
              "          const element = document.querySelector('#df-8dbd255e-88d0-42b8-98b8-386fba44c55f');\n",
              "          const dataTable =\n",
              "            await google.colab.kernel.invokeFunction('convertToInteractive',\n",
              "                                                     [key], {});\n",
              "          if (!dataTable) return;\n",
              "\n",
              "          const docLinkHtml = 'Like what you see? Visit the ' +\n",
              "            '<a target=\"_blank\" href=https://colab.research.google.com/notebooks/data_table.ipynb>data table notebook</a>'\n",
              "            + ' to learn more about interactive tables.';\n",
              "          element.innerHTML = '';\n",
              "          dataTable['output_type'] = 'display_data';\n",
              "          await google.colab.output.renderOutput(dataTable, element);\n",
              "          const docLink = document.createElement('div');\n",
              "          docLink.innerHTML = docLinkHtml;\n",
              "          element.appendChild(docLink);\n",
              "        }\n",
              "      </script>\n",
              "    </div>\n",
              "  </div>\n",
              "  "
            ]
          },
          "metadata": {},
          "execution_count": 5
        }
      ]
    },
    {
      "cell_type": "code",
      "source": [
        "temp2=df.iloc[:,1:]\n",
        "temp2.head(10)"
      ],
      "metadata": {
        "colab": {
          "base_uri": "https://localhost:8080/",
          "height": 394
        },
        "id": "Wls---Dmxx0s",
        "outputId": "ce615dc5-f4c6-41b3-f604-190b6a83133a"
      },
      "execution_count": null,
      "outputs": [
        {
          "output_type": "execute_result",
          "data": {
            "text/plain": [
              "            Max Temperature  Min Temperature  Precipitation      Wind  \\\n",
              "Date                                                                    \n",
              "1981-03-21           32.129           15.476       0.000000  2.323745   \n",
              "1981-03-22           30.684           19.719       0.607683  2.686932   \n",
              "1981-03-23           32.564           19.376       4.067518  2.694658   \n",
              "1981-03-24           33.151           23.626       0.000000  5.599542   \n",
              "1981-03-25           30.615           24.187       0.000000  3.765550   \n",
              "1981-03-26           34.241           23.594       0.010300  3.983169   \n",
              "1981-03-27           32.454           22.348       2.628137  6.124588   \n",
              "1981-03-28           26.407           16.760       0.216293  3.668931   \n",
              "1981-03-29           26.675           13.771       0.000000  3.811978   \n",
              "1981-03-30           27.073           13.779       0.000000  3.153812   \n",
              "\n",
              "            Relative Humidity      Solar  tabkhir   debi  \n",
              "Date                                                      \n",
              "1981-03-21           0.324832  22.450215      2.9   86.0  \n",
              "1981-03-22           0.379659  21.654897      2.6   75.6  \n",
              "1981-03-23           0.417122  19.871775      2.2   70.0  \n",
              "1981-03-24           0.227993  15.473473      2.3   64.4  \n",
              "1981-03-25           0.280895   9.735983      1.1   69.2  \n",
              "1981-03-26           0.257697  12.637855      3.2  100.4  \n",
              "1981-03-27           0.388769  15.183904      3.1   65.2  \n",
              "1981-03-28           0.478403  25.116414      0.6  104.4  \n",
              "1981-03-29           0.393696  25.211250      2.7  172.0  \n",
              "1981-03-30           0.400665  25.432034      3.2   94.0  "
            ],
            "text/html": [
              "\n",
              "  <div id=\"df-c0ac9c14-ee4f-46ea-ae40-7a8286cc3c57\">\n",
              "    <div class=\"colab-df-container\">\n",
              "      <div>\n",
              "<style scoped>\n",
              "    .dataframe tbody tr th:only-of-type {\n",
              "        vertical-align: middle;\n",
              "    }\n",
              "\n",
              "    .dataframe tbody tr th {\n",
              "        vertical-align: top;\n",
              "    }\n",
              "\n",
              "    .dataframe thead th {\n",
              "        text-align: right;\n",
              "    }\n",
              "</style>\n",
              "<table border=\"1\" class=\"dataframe\">\n",
              "  <thead>\n",
              "    <tr style=\"text-align: right;\">\n",
              "      <th></th>\n",
              "      <th>Max Temperature</th>\n",
              "      <th>Min Temperature</th>\n",
              "      <th>Precipitation</th>\n",
              "      <th>Wind</th>\n",
              "      <th>Relative Humidity</th>\n",
              "      <th>Solar</th>\n",
              "      <th>tabkhir</th>\n",
              "      <th>debi</th>\n",
              "    </tr>\n",
              "    <tr>\n",
              "      <th>Date</th>\n",
              "      <th></th>\n",
              "      <th></th>\n",
              "      <th></th>\n",
              "      <th></th>\n",
              "      <th></th>\n",
              "      <th></th>\n",
              "      <th></th>\n",
              "      <th></th>\n",
              "    </tr>\n",
              "  </thead>\n",
              "  <tbody>\n",
              "    <tr>\n",
              "      <th>1981-03-21</th>\n",
              "      <td>32.129</td>\n",
              "      <td>15.476</td>\n",
              "      <td>0.000000</td>\n",
              "      <td>2.323745</td>\n",
              "      <td>0.324832</td>\n",
              "      <td>22.450215</td>\n",
              "      <td>2.9</td>\n",
              "      <td>86.0</td>\n",
              "    </tr>\n",
              "    <tr>\n",
              "      <th>1981-03-22</th>\n",
              "      <td>30.684</td>\n",
              "      <td>19.719</td>\n",
              "      <td>0.607683</td>\n",
              "      <td>2.686932</td>\n",
              "      <td>0.379659</td>\n",
              "      <td>21.654897</td>\n",
              "      <td>2.6</td>\n",
              "      <td>75.6</td>\n",
              "    </tr>\n",
              "    <tr>\n",
              "      <th>1981-03-23</th>\n",
              "      <td>32.564</td>\n",
              "      <td>19.376</td>\n",
              "      <td>4.067518</td>\n",
              "      <td>2.694658</td>\n",
              "      <td>0.417122</td>\n",
              "      <td>19.871775</td>\n",
              "      <td>2.2</td>\n",
              "      <td>70.0</td>\n",
              "    </tr>\n",
              "    <tr>\n",
              "      <th>1981-03-24</th>\n",
              "      <td>33.151</td>\n",
              "      <td>23.626</td>\n",
              "      <td>0.000000</td>\n",
              "      <td>5.599542</td>\n",
              "      <td>0.227993</td>\n",
              "      <td>15.473473</td>\n",
              "      <td>2.3</td>\n",
              "      <td>64.4</td>\n",
              "    </tr>\n",
              "    <tr>\n",
              "      <th>1981-03-25</th>\n",
              "      <td>30.615</td>\n",
              "      <td>24.187</td>\n",
              "      <td>0.000000</td>\n",
              "      <td>3.765550</td>\n",
              "      <td>0.280895</td>\n",
              "      <td>9.735983</td>\n",
              "      <td>1.1</td>\n",
              "      <td>69.2</td>\n",
              "    </tr>\n",
              "    <tr>\n",
              "      <th>1981-03-26</th>\n",
              "      <td>34.241</td>\n",
              "      <td>23.594</td>\n",
              "      <td>0.010300</td>\n",
              "      <td>3.983169</td>\n",
              "      <td>0.257697</td>\n",
              "      <td>12.637855</td>\n",
              "      <td>3.2</td>\n",
              "      <td>100.4</td>\n",
              "    </tr>\n",
              "    <tr>\n",
              "      <th>1981-03-27</th>\n",
              "      <td>32.454</td>\n",
              "      <td>22.348</td>\n",
              "      <td>2.628137</td>\n",
              "      <td>6.124588</td>\n",
              "      <td>0.388769</td>\n",
              "      <td>15.183904</td>\n",
              "      <td>3.1</td>\n",
              "      <td>65.2</td>\n",
              "    </tr>\n",
              "    <tr>\n",
              "      <th>1981-03-28</th>\n",
              "      <td>26.407</td>\n",
              "      <td>16.760</td>\n",
              "      <td>0.216293</td>\n",
              "      <td>3.668931</td>\n",
              "      <td>0.478403</td>\n",
              "      <td>25.116414</td>\n",
              "      <td>0.6</td>\n",
              "      <td>104.4</td>\n",
              "    </tr>\n",
              "    <tr>\n",
              "      <th>1981-03-29</th>\n",
              "      <td>26.675</td>\n",
              "      <td>13.771</td>\n",
              "      <td>0.000000</td>\n",
              "      <td>3.811978</td>\n",
              "      <td>0.393696</td>\n",
              "      <td>25.211250</td>\n",
              "      <td>2.7</td>\n",
              "      <td>172.0</td>\n",
              "    </tr>\n",
              "    <tr>\n",
              "      <th>1981-03-30</th>\n",
              "      <td>27.073</td>\n",
              "      <td>13.779</td>\n",
              "      <td>0.000000</td>\n",
              "      <td>3.153812</td>\n",
              "      <td>0.400665</td>\n",
              "      <td>25.432034</td>\n",
              "      <td>3.2</td>\n",
              "      <td>94.0</td>\n",
              "    </tr>\n",
              "  </tbody>\n",
              "</table>\n",
              "</div>\n",
              "      <button class=\"colab-df-convert\" onclick=\"convertToInteractive('df-c0ac9c14-ee4f-46ea-ae40-7a8286cc3c57')\"\n",
              "              title=\"Convert this dataframe to an interactive table.\"\n",
              "              style=\"display:none;\">\n",
              "        \n",
              "  <svg xmlns=\"http://www.w3.org/2000/svg\" height=\"24px\"viewBox=\"0 0 24 24\"\n",
              "       width=\"24px\">\n",
              "    <path d=\"M0 0h24v24H0V0z\" fill=\"none\"/>\n",
              "    <path d=\"M18.56 5.44l.94 2.06.94-2.06 2.06-.94-2.06-.94-.94-2.06-.94 2.06-2.06.94zm-11 1L8.5 8.5l.94-2.06 2.06-.94-2.06-.94L8.5 2.5l-.94 2.06-2.06.94zm10 10l.94 2.06.94-2.06 2.06-.94-2.06-.94-.94-2.06-.94 2.06-2.06.94z\"/><path d=\"M17.41 7.96l-1.37-1.37c-.4-.4-.92-.59-1.43-.59-.52 0-1.04.2-1.43.59L10.3 9.45l-7.72 7.72c-.78.78-.78 2.05 0 2.83L4 21.41c.39.39.9.59 1.41.59.51 0 1.02-.2 1.41-.59l7.78-7.78 2.81-2.81c.8-.78.8-2.07 0-2.86zM5.41 20L4 18.59l7.72-7.72 1.47 1.35L5.41 20z\"/>\n",
              "  </svg>\n",
              "      </button>\n",
              "      \n",
              "  <style>\n",
              "    .colab-df-container {\n",
              "      display:flex;\n",
              "      flex-wrap:wrap;\n",
              "      gap: 12px;\n",
              "    }\n",
              "\n",
              "    .colab-df-convert {\n",
              "      background-color: #E8F0FE;\n",
              "      border: none;\n",
              "      border-radius: 50%;\n",
              "      cursor: pointer;\n",
              "      display: none;\n",
              "      fill: #1967D2;\n",
              "      height: 32px;\n",
              "      padding: 0 0 0 0;\n",
              "      width: 32px;\n",
              "    }\n",
              "\n",
              "    .colab-df-convert:hover {\n",
              "      background-color: #E2EBFA;\n",
              "      box-shadow: 0px 1px 2px rgba(60, 64, 67, 0.3), 0px 1px 3px 1px rgba(60, 64, 67, 0.15);\n",
              "      fill: #174EA6;\n",
              "    }\n",
              "\n",
              "    [theme=dark] .colab-df-convert {\n",
              "      background-color: #3B4455;\n",
              "      fill: #D2E3FC;\n",
              "    }\n",
              "\n",
              "    [theme=dark] .colab-df-convert:hover {\n",
              "      background-color: #434B5C;\n",
              "      box-shadow: 0px 1px 3px 1px rgba(0, 0, 0, 0.15);\n",
              "      filter: drop-shadow(0px 1px 2px rgba(0, 0, 0, 0.3));\n",
              "      fill: #FFFFFF;\n",
              "    }\n",
              "  </style>\n",
              "\n",
              "      <script>\n",
              "        const buttonEl =\n",
              "          document.querySelector('#df-c0ac9c14-ee4f-46ea-ae40-7a8286cc3c57 button.colab-df-convert');\n",
              "        buttonEl.style.display =\n",
              "          google.colab.kernel.accessAllowed ? 'block' : 'none';\n",
              "\n",
              "        async function convertToInteractive(key) {\n",
              "          const element = document.querySelector('#df-c0ac9c14-ee4f-46ea-ae40-7a8286cc3c57');\n",
              "          const dataTable =\n",
              "            await google.colab.kernel.invokeFunction('convertToInteractive',\n",
              "                                                     [key], {});\n",
              "          if (!dataTable) return;\n",
              "\n",
              "          const docLinkHtml = 'Like what you see? Visit the ' +\n",
              "            '<a target=\"_blank\" href=https://colab.research.google.com/notebooks/data_table.ipynb>data table notebook</a>'\n",
              "            + ' to learn more about interactive tables.';\n",
              "          element.innerHTML = '';\n",
              "          dataTable['output_type'] = 'display_data';\n",
              "          await google.colab.output.renderOutput(dataTable, element);\n",
              "          const docLink = document.createElement('div');\n",
              "          docLink.innerHTML = docLinkHtml;\n",
              "          element.appendChild(docLink);\n",
              "        }\n",
              "      </script>\n",
              "    </div>\n",
              "  </div>\n",
              "  "
            ]
          },
          "metadata": {},
          "execution_count": 6
        }
      ]
    },
    {
      "cell_type": "code",
      "source": [
        "for i in ((temp2.columns)):\n",
        "  temp2[i]=temp2[i]/max(temp2[i])"
      ],
      "metadata": {
        "id": "NU1H87n_tlGd"
      },
      "execution_count": null,
      "outputs": []
    },
    {
      "cell_type": "code",
      "source": [
        "temp2.head(10)"
      ],
      "metadata": {
        "colab": {
          "base_uri": "https://localhost:8080/",
          "height": 394
        },
        "id": "MRMFQZLWvjEA",
        "outputId": "ff0abacb-10b2-4160-f438-8dfa1e84b4a2"
      },
      "execution_count": null,
      "outputs": [
        {
          "output_type": "execute_result",
          "data": {
            "text/plain": [
              "            Max Temperature  Min Temperature  Precipitation      Wind  \\\n",
              "Date                                                                    \n",
              "1981-03-21         0.635199         0.418950       0.000000  0.255033   \n",
              "1981-03-22         0.606631         0.533812       0.007118  0.294893   \n",
              "1981-03-23         0.643799         0.524526       0.047643  0.295741   \n",
              "1981-03-24         0.655404         0.639578       0.000000  0.614554   \n",
              "1981-03-25         0.605267         0.654764       0.000000  0.413272   \n",
              "1981-03-26         0.676954         0.638711       0.000121  0.437156   \n",
              "1981-03-27         0.641624         0.604981       0.030784  0.672178   \n",
              "1981-03-28         0.522074         0.453709       0.002533  0.402668   \n",
              "1981-03-29         0.527372         0.372794       0.000000  0.418367   \n",
              "1981-03-30         0.535241         0.373010       0.000000  0.346133   \n",
              "\n",
              "            Relative Humidity     Solar   tabkhir      debi  \n",
              "Date                                                         \n",
              "1981-03-21           0.356202  0.712268  0.150259  0.076992  \n",
              "1981-03-22           0.416324  0.687035  0.134715  0.067681  \n",
              "1981-03-23           0.457405  0.630463  0.113990  0.062668  \n",
              "1981-03-24           0.250011  0.490920  0.119171  0.057654  \n",
              "1981-03-25           0.308022  0.308889  0.056995  0.061952  \n",
              "1981-03-26           0.282584  0.400956  0.165803  0.089884  \n",
              "1981-03-27           0.426314  0.481733  0.160622  0.058371  \n",
              "1981-03-28           0.524604  0.796857  0.031088  0.093465  \n",
              "1981-03-29           0.431717  0.799866  0.139896  0.153984  \n",
              "1981-03-30           0.439358  0.806871  0.165803  0.084154  "
            ],
            "text/html": [
              "\n",
              "  <div id=\"df-71c6ed20-5c6b-46dc-bc08-1eca20df69fe\">\n",
              "    <div class=\"colab-df-container\">\n",
              "      <div>\n",
              "<style scoped>\n",
              "    .dataframe tbody tr th:only-of-type {\n",
              "        vertical-align: middle;\n",
              "    }\n",
              "\n",
              "    .dataframe tbody tr th {\n",
              "        vertical-align: top;\n",
              "    }\n",
              "\n",
              "    .dataframe thead th {\n",
              "        text-align: right;\n",
              "    }\n",
              "</style>\n",
              "<table border=\"1\" class=\"dataframe\">\n",
              "  <thead>\n",
              "    <tr style=\"text-align: right;\">\n",
              "      <th></th>\n",
              "      <th>Max Temperature</th>\n",
              "      <th>Min Temperature</th>\n",
              "      <th>Precipitation</th>\n",
              "      <th>Wind</th>\n",
              "      <th>Relative Humidity</th>\n",
              "      <th>Solar</th>\n",
              "      <th>tabkhir</th>\n",
              "      <th>debi</th>\n",
              "    </tr>\n",
              "    <tr>\n",
              "      <th>Date</th>\n",
              "      <th></th>\n",
              "      <th></th>\n",
              "      <th></th>\n",
              "      <th></th>\n",
              "      <th></th>\n",
              "      <th></th>\n",
              "      <th></th>\n",
              "      <th></th>\n",
              "    </tr>\n",
              "  </thead>\n",
              "  <tbody>\n",
              "    <tr>\n",
              "      <th>1981-03-21</th>\n",
              "      <td>0.635199</td>\n",
              "      <td>0.418950</td>\n",
              "      <td>0.000000</td>\n",
              "      <td>0.255033</td>\n",
              "      <td>0.356202</td>\n",
              "      <td>0.712268</td>\n",
              "      <td>0.150259</td>\n",
              "      <td>0.076992</td>\n",
              "    </tr>\n",
              "    <tr>\n",
              "      <th>1981-03-22</th>\n",
              "      <td>0.606631</td>\n",
              "      <td>0.533812</td>\n",
              "      <td>0.007118</td>\n",
              "      <td>0.294893</td>\n",
              "      <td>0.416324</td>\n",
              "      <td>0.687035</td>\n",
              "      <td>0.134715</td>\n",
              "      <td>0.067681</td>\n",
              "    </tr>\n",
              "    <tr>\n",
              "      <th>1981-03-23</th>\n",
              "      <td>0.643799</td>\n",
              "      <td>0.524526</td>\n",
              "      <td>0.047643</td>\n",
              "      <td>0.295741</td>\n",
              "      <td>0.457405</td>\n",
              "      <td>0.630463</td>\n",
              "      <td>0.113990</td>\n",
              "      <td>0.062668</td>\n",
              "    </tr>\n",
              "    <tr>\n",
              "      <th>1981-03-24</th>\n",
              "      <td>0.655404</td>\n",
              "      <td>0.639578</td>\n",
              "      <td>0.000000</td>\n",
              "      <td>0.614554</td>\n",
              "      <td>0.250011</td>\n",
              "      <td>0.490920</td>\n",
              "      <td>0.119171</td>\n",
              "      <td>0.057654</td>\n",
              "    </tr>\n",
              "    <tr>\n",
              "      <th>1981-03-25</th>\n",
              "      <td>0.605267</td>\n",
              "      <td>0.654764</td>\n",
              "      <td>0.000000</td>\n",
              "      <td>0.413272</td>\n",
              "      <td>0.308022</td>\n",
              "      <td>0.308889</td>\n",
              "      <td>0.056995</td>\n",
              "      <td>0.061952</td>\n",
              "    </tr>\n",
              "    <tr>\n",
              "      <th>1981-03-26</th>\n",
              "      <td>0.676954</td>\n",
              "      <td>0.638711</td>\n",
              "      <td>0.000121</td>\n",
              "      <td>0.437156</td>\n",
              "      <td>0.282584</td>\n",
              "      <td>0.400956</td>\n",
              "      <td>0.165803</td>\n",
              "      <td>0.089884</td>\n",
              "    </tr>\n",
              "    <tr>\n",
              "      <th>1981-03-27</th>\n",
              "      <td>0.641624</td>\n",
              "      <td>0.604981</td>\n",
              "      <td>0.030784</td>\n",
              "      <td>0.672178</td>\n",
              "      <td>0.426314</td>\n",
              "      <td>0.481733</td>\n",
              "      <td>0.160622</td>\n",
              "      <td>0.058371</td>\n",
              "    </tr>\n",
              "    <tr>\n",
              "      <th>1981-03-28</th>\n",
              "      <td>0.522074</td>\n",
              "      <td>0.453709</td>\n",
              "      <td>0.002533</td>\n",
              "      <td>0.402668</td>\n",
              "      <td>0.524604</td>\n",
              "      <td>0.796857</td>\n",
              "      <td>0.031088</td>\n",
              "      <td>0.093465</td>\n",
              "    </tr>\n",
              "    <tr>\n",
              "      <th>1981-03-29</th>\n",
              "      <td>0.527372</td>\n",
              "      <td>0.372794</td>\n",
              "      <td>0.000000</td>\n",
              "      <td>0.418367</td>\n",
              "      <td>0.431717</td>\n",
              "      <td>0.799866</td>\n",
              "      <td>0.139896</td>\n",
              "      <td>0.153984</td>\n",
              "    </tr>\n",
              "    <tr>\n",
              "      <th>1981-03-30</th>\n",
              "      <td>0.535241</td>\n",
              "      <td>0.373010</td>\n",
              "      <td>0.000000</td>\n",
              "      <td>0.346133</td>\n",
              "      <td>0.439358</td>\n",
              "      <td>0.806871</td>\n",
              "      <td>0.165803</td>\n",
              "      <td>0.084154</td>\n",
              "    </tr>\n",
              "  </tbody>\n",
              "</table>\n",
              "</div>\n",
              "      <button class=\"colab-df-convert\" onclick=\"convertToInteractive('df-71c6ed20-5c6b-46dc-bc08-1eca20df69fe')\"\n",
              "              title=\"Convert this dataframe to an interactive table.\"\n",
              "              style=\"display:none;\">\n",
              "        \n",
              "  <svg xmlns=\"http://www.w3.org/2000/svg\" height=\"24px\"viewBox=\"0 0 24 24\"\n",
              "       width=\"24px\">\n",
              "    <path d=\"M0 0h24v24H0V0z\" fill=\"none\"/>\n",
              "    <path d=\"M18.56 5.44l.94 2.06.94-2.06 2.06-.94-2.06-.94-.94-2.06-.94 2.06-2.06.94zm-11 1L8.5 8.5l.94-2.06 2.06-.94-2.06-.94L8.5 2.5l-.94 2.06-2.06.94zm10 10l.94 2.06.94-2.06 2.06-.94-2.06-.94-.94-2.06-.94 2.06-2.06.94z\"/><path d=\"M17.41 7.96l-1.37-1.37c-.4-.4-.92-.59-1.43-.59-.52 0-1.04.2-1.43.59L10.3 9.45l-7.72 7.72c-.78.78-.78 2.05 0 2.83L4 21.41c.39.39.9.59 1.41.59.51 0 1.02-.2 1.41-.59l7.78-7.78 2.81-2.81c.8-.78.8-2.07 0-2.86zM5.41 20L4 18.59l7.72-7.72 1.47 1.35L5.41 20z\"/>\n",
              "  </svg>\n",
              "      </button>\n",
              "      \n",
              "  <style>\n",
              "    .colab-df-container {\n",
              "      display:flex;\n",
              "      flex-wrap:wrap;\n",
              "      gap: 12px;\n",
              "    }\n",
              "\n",
              "    .colab-df-convert {\n",
              "      background-color: #E8F0FE;\n",
              "      border: none;\n",
              "      border-radius: 50%;\n",
              "      cursor: pointer;\n",
              "      display: none;\n",
              "      fill: #1967D2;\n",
              "      height: 32px;\n",
              "      padding: 0 0 0 0;\n",
              "      width: 32px;\n",
              "    }\n",
              "\n",
              "    .colab-df-convert:hover {\n",
              "      background-color: #E2EBFA;\n",
              "      box-shadow: 0px 1px 2px rgba(60, 64, 67, 0.3), 0px 1px 3px 1px rgba(60, 64, 67, 0.15);\n",
              "      fill: #174EA6;\n",
              "    }\n",
              "\n",
              "    [theme=dark] .colab-df-convert {\n",
              "      background-color: #3B4455;\n",
              "      fill: #D2E3FC;\n",
              "    }\n",
              "\n",
              "    [theme=dark] .colab-df-convert:hover {\n",
              "      background-color: #434B5C;\n",
              "      box-shadow: 0px 1px 3px 1px rgba(0, 0, 0, 0.15);\n",
              "      filter: drop-shadow(0px 1px 2px rgba(0, 0, 0, 0.3));\n",
              "      fill: #FFFFFF;\n",
              "    }\n",
              "  </style>\n",
              "\n",
              "      <script>\n",
              "        const buttonEl =\n",
              "          document.querySelector('#df-71c6ed20-5c6b-46dc-bc08-1eca20df69fe button.colab-df-convert');\n",
              "        buttonEl.style.display =\n",
              "          google.colab.kernel.accessAllowed ? 'block' : 'none';\n",
              "\n",
              "        async function convertToInteractive(key) {\n",
              "          const element = document.querySelector('#df-71c6ed20-5c6b-46dc-bc08-1eca20df69fe');\n",
              "          const dataTable =\n",
              "            await google.colab.kernel.invokeFunction('convertToInteractive',\n",
              "                                                     [key], {});\n",
              "          if (!dataTable) return;\n",
              "\n",
              "          const docLinkHtml = 'Like what you see? Visit the ' +\n",
              "            '<a target=\"_blank\" href=https://colab.research.google.com/notebooks/data_table.ipynb>data table notebook</a>'\n",
              "            + ' to learn more about interactive tables.';\n",
              "          element.innerHTML = '';\n",
              "          dataTable['output_type'] = 'display_data';\n",
              "          await google.colab.output.renderOutput(dataTable, element);\n",
              "          const docLink = document.createElement('div');\n",
              "          docLink.innerHTML = docLinkHtml;\n",
              "          element.appendChild(docLink);\n",
              "        }\n",
              "      </script>\n",
              "    </div>\n",
              "  </div>\n",
              "  "
            ]
          },
          "metadata": {},
          "execution_count": 8
        }
      ]
    },
    {
      "cell_type": "code",
      "source": [
        "def dfM_to_X_y(df, window_size=12):\n",
        "  df_as_np=df.to_numpy()\n",
        "  X=[]\n",
        "  y=[]\n",
        "  for i in range (len(df_as_np)-window_size):\n",
        "    row=[r for r in df_as_np[i:i+window_size]]\n",
        "    X.append(row)\n",
        "    label=df_as_np[i+window_size][7]\n",
        "    y.append(label)\n",
        "  return np.array(X), np.array(y)"
      ],
      "metadata": {
        "id": "rstJnKOL3e_k"
      },
      "execution_count": null,
      "outputs": []
    },
    {
      "cell_type": "code",
      "source": [
        "window_size=12\n",
        "X1,y1=dfM_to_X_y(temp2, window_size)\n",
        "X1.shape , y1.shape"
      ],
      "metadata": {
        "id": "Mdwod4MT4aBQ",
        "colab": {
          "base_uri": "https://localhost:8080/"
        },
        "outputId": "a8a7656c-1986-4edd-b71b-562a60ecf03e"
      },
      "execution_count": null,
      "outputs": [
        {
          "output_type": "execute_result",
          "data": {
            "text/plain": [
              "((9286, 12, 8), (9286,))"
            ]
          },
          "metadata": {},
          "execution_count": 10
        }
      ]
    },
    {
      "cell_type": "code",
      "source": [
        "lb=np.ceil(0.8*X1.shape[0])\n",
        "ub=np.ceil(0.4*(X1.shape[0]-lb))\n",
        "lb=int(lb)\n",
        "ub=int(ub)"
      ],
      "metadata": {
        "id": "v6jsPogpZFKr"
      },
      "execution_count": null,
      "outputs": []
    },
    {
      "cell_type": "code",
      "source": [
        "X_train1, y_train1=X1[:lb], y1[:lb]\n",
        "X_val1, y_val1=X1[lb:lb+ub], y1[lb:lb+ub]\n",
        "X_test1, y_test1=X1[lb+ub:], y1[lb+ub:]"
      ],
      "metadata": {
        "id": "PTW7nhpy6XhL"
      },
      "execution_count": null,
      "outputs": []
    },
    {
      "cell_type": "code",
      "source": [
        "X_train1.shape,y_train1.shape,X_val1.shape,y_val1.shape,X_test1.shape,y_test1.shape"
      ],
      "metadata": {
        "colab": {
          "base_uri": "https://localhost:8080/"
        },
        "id": "yU86Ifhb66Rc",
        "outputId": "ab023bd6-b0b4-483f-d220-1a7b19e185a5"
      },
      "execution_count": null,
      "outputs": [
        {
          "output_type": "execute_result",
          "data": {
            "text/plain": [
              "((7429, 12, 8), (7429,), (743, 12, 8), (743,), (1114, 12, 8), (1114,))"
            ]
          },
          "metadata": {},
          "execution_count": 13
        }
      ]
    },
    {
      "cell_type": "code",
      "source": [
        "from keras.models import Sequential\n",
        "from keras.layers import *\n",
        "from keras.callbacks import ModelCheckpoint\n",
        "from keras.losses import MeanSquaredError\n",
        "from keras.metrics import RootMeanSquaredError\n",
        "\n"
      ],
      "metadata": {
        "id": "aMV0P3UH7HF0"
      },
      "execution_count": null,
      "outputs": []
    },
    {
      "cell_type": "code",
      "source": [
        "model1=Sequential()\n",
        "model1.add(InputLayer((X_train1.shape[1],X_train1.shape[2])))\n",
        "model1.add(LSTM(128))\n",
        "model1.add(Dropout(0.2))\n",
        "model1.add(Dense(128,'relu'))\n",
        "model1.add(Dense(128,'relu'))\n",
        "model1.add(Dense(1,'linear'))\n",
        "model1.summary()"
      ],
      "metadata": {
        "colab": {
          "base_uri": "https://localhost:8080/"
        },
        "id": "CPUf-uVi7zoG",
        "outputId": "c984b159-0b91-4d16-dea6-e1ed91ea700f"
      },
      "execution_count": null,
      "outputs": [
        {
          "output_type": "stream",
          "name": "stdout",
          "text": [
            "Model: \"sequential\"\n",
            "_________________________________________________________________\n",
            " Layer (type)                Output Shape              Param #   \n",
            "=================================================================\n",
            " lstm (LSTM)                 (None, 128)               70144     \n",
            "                                                                 \n",
            " dropout (Dropout)           (None, 128)               0         \n",
            "                                                                 \n",
            " dense (Dense)               (None, 128)               16512     \n",
            "                                                                 \n",
            " dense_1 (Dense)             (None, 128)               16512     \n",
            "                                                                 \n",
            " dense_2 (Dense)             (None, 1)                 129       \n",
            "                                                                 \n",
            "=================================================================\n",
            "Total params: 103,297\n",
            "Trainable params: 103,297\n",
            "Non-trainable params: 0\n",
            "_________________________________________________________________\n"
          ]
        }
      ]
    },
    {
      "cell_type": "code",
      "source": [
        "cp=ModelCheckpoint('model1/', save_best_only=True)\n",
        "model1.compile(loss=MeanSquaredError(), optimizer='adam', metrics=[RootMeanSquaredError()])"
      ],
      "metadata": {
        "id": "Lc9S1Chb8Tsi"
      },
      "execution_count": null,
      "outputs": []
    },
    {
      "cell_type": "code",
      "source": [
        "model1.fit(X_train1,y_train1, validation_data=(X_val1,y_val1), epochs=30, callbacks=[cp])"
      ],
      "metadata": {
        "colab": {
          "base_uri": "https://localhost:8080/"
        },
        "id": "vSk_CTem80G2",
        "outputId": "7d09f307-65cf-42df-828b-3f99dbbae96c"
      },
      "execution_count": null,
      "outputs": [
        {
          "output_type": "stream",
          "name": "stdout",
          "text": [
            "Epoch 1/30\n",
            "232/233 [============================>.] - ETA: 0s - loss: 0.0016 - root_mean_squared_error: 0.0397"
          ]
        },
        {
          "output_type": "stream",
          "name": "stderr",
          "text": [
            "WARNING:absl:Found untraced functions such as lstm_cell_layer_call_fn, lstm_cell_layer_call_and_return_conditional_losses while saving (showing 2 of 2). These functions will not be directly callable after loading.\n"
          ]
        },
        {
          "output_type": "stream",
          "name": "stdout",
          "text": [
            "INFO:tensorflow:Assets written to: model1/assets\n"
          ]
        },
        {
          "output_type": "stream",
          "name": "stderr",
          "text": [
            "INFO:tensorflow:Assets written to: model1/assets\n",
            "WARNING:absl:<keras.layers.recurrent.LSTMCell object at 0x7fdb6151a090> has the same name 'LSTMCell' as a built-in Keras object. Consider renaming <class 'keras.layers.recurrent.LSTMCell'> to avoid naming conflicts when loading with `tf.keras.models.load_model`. If renaming is not possible, pass the object in the `custom_objects` parameter of the load function.\n"
          ]
        },
        {
          "output_type": "stream",
          "name": "stdout",
          "text": [
            "\b\b\b\b\b\b\b\b\b\b\b\b\b\b\b\b\b\b\b\b\b\b\b\b\b\b\b\b\b\b\b\b\b\b\b\b\b\b\b\b\b\b\b\b\b\b\b\b\b\b\b\b\b\b\b\b\b\b\b\b\b\b\b\b\b\b\b\b\b\b\b\b\b\b\b\b\b\b\b\b\b\b\b\b\b\b\b\b\b\b\b\b\b\b\b\b\b\b\b\r233/233 [==============================] - 20s 75ms/step - loss: 0.0016 - root_mean_squared_error: 0.0397 - val_loss: 0.0028 - val_root_mean_squared_error: 0.0529\n",
            "Epoch 2/30\n",
            "233/233 [==============================] - 7s 30ms/step - loss: 0.0014 - root_mean_squared_error: 0.0375 - val_loss: 0.0028 - val_root_mean_squared_error: 0.0530\n",
            "Epoch 3/30\n",
            "233/233 [==============================] - ETA: 0s - loss: 0.0013 - root_mean_squared_error: 0.0365"
          ]
        },
        {
          "output_type": "stream",
          "name": "stderr",
          "text": [
            "WARNING:absl:Found untraced functions such as lstm_cell_layer_call_fn, lstm_cell_layer_call_and_return_conditional_losses while saving (showing 2 of 2). These functions will not be directly callable after loading.\n"
          ]
        },
        {
          "output_type": "stream",
          "name": "stdout",
          "text": [
            "INFO:tensorflow:Assets written to: model1/assets\n"
          ]
        },
        {
          "output_type": "stream",
          "name": "stderr",
          "text": [
            "INFO:tensorflow:Assets written to: model1/assets\n",
            "WARNING:absl:<keras.layers.recurrent.LSTMCell object at 0x7fdb6151a090> has the same name 'LSTMCell' as a built-in Keras object. Consider renaming <class 'keras.layers.recurrent.LSTMCell'> to avoid naming conflicts when loading with `tf.keras.models.load_model`. If renaming is not possible, pass the object in the `custom_objects` parameter of the load function.\n"
          ]
        },
        {
          "output_type": "stream",
          "name": "stdout",
          "text": [
            "\b\b\b\b\b\b\b\b\b\b\b\b\b\b\b\b\b\b\b\b\b\b\b\b\b\b\b\b\b\b\b\b\b\b\b\b\b\b\b\b\b\b\b\b\b\b\b\b\b\b\b\b\b\b\b\b\b\b\b\b\b\b\b\b\b\b\b\b\b\b\b\b\b\b\b\b\b\b\b\b\b\b\b\b\b\b\b\b\b\b\b\b\b\b\b\b\b\b\b\r233/233 [==============================] - 14s 58ms/step - loss: 0.0013 - root_mean_squared_error: 0.0365 - val_loss: 0.0026 - val_root_mean_squared_error: 0.0508\n",
            "Epoch 4/30\n",
            "233/233 [==============================] - ETA: 0s - loss: 0.0013 - root_mean_squared_error: 0.0361"
          ]
        },
        {
          "output_type": "stream",
          "name": "stderr",
          "text": [
            "WARNING:absl:Found untraced functions such as lstm_cell_layer_call_fn, lstm_cell_layer_call_and_return_conditional_losses while saving (showing 2 of 2). These functions will not be directly callable after loading.\n"
          ]
        },
        {
          "output_type": "stream",
          "name": "stdout",
          "text": [
            "INFO:tensorflow:Assets written to: model1/assets\n"
          ]
        },
        {
          "output_type": "stream",
          "name": "stderr",
          "text": [
            "INFO:tensorflow:Assets written to: model1/assets\n",
            "WARNING:absl:<keras.layers.recurrent.LSTMCell object at 0x7fdb6151a090> has the same name 'LSTMCell' as a built-in Keras object. Consider renaming <class 'keras.layers.recurrent.LSTMCell'> to avoid naming conflicts when loading with `tf.keras.models.load_model`. If renaming is not possible, pass the object in the `custom_objects` parameter of the load function.\n"
          ]
        },
        {
          "output_type": "stream",
          "name": "stdout",
          "text": [
            "\b\b\b\b\b\b\b\b\b\b\b\b\b\b\b\b\b\b\b\b\b\b\b\b\b\b\b\b\b\b\b\b\b\b\b\b\b\b\b\b\b\b\b\b\b\b\b\b\b\b\b\b\b\b\b\b\b\b\b\b\b\b\b\b\b\b\b\b\b\b\b\b\b\b\b\b\b\b\b\b\b\b\b\b\b\b\b\b\b\b\b\b\b\b\b\b\b\b\b\r233/233 [==============================] - 9s 38ms/step - loss: 0.0013 - root_mean_squared_error: 0.0361 - val_loss: 0.0025 - val_root_mean_squared_error: 0.0498\n",
            "Epoch 5/30\n",
            "230/233 [============================>.] - ETA: 0s - loss: 0.0013 - root_mean_squared_error: 0.0360"
          ]
        },
        {
          "output_type": "stream",
          "name": "stderr",
          "text": [
            "WARNING:absl:Found untraced functions such as lstm_cell_layer_call_fn, lstm_cell_layer_call_and_return_conditional_losses while saving (showing 2 of 2). These functions will not be directly callable after loading.\n"
          ]
        },
        {
          "output_type": "stream",
          "name": "stdout",
          "text": [
            "INFO:tensorflow:Assets written to: model1/assets\n"
          ]
        },
        {
          "output_type": "stream",
          "name": "stderr",
          "text": [
            "INFO:tensorflow:Assets written to: model1/assets\n",
            "WARNING:absl:<keras.layers.recurrent.LSTMCell object at 0x7fdb6151a090> has the same name 'LSTMCell' as a built-in Keras object. Consider renaming <class 'keras.layers.recurrent.LSTMCell'> to avoid naming conflicts when loading with `tf.keras.models.load_model`. If renaming is not possible, pass the object in the `custom_objects` parameter of the load function.\n"
          ]
        },
        {
          "output_type": "stream",
          "name": "stdout",
          "text": [
            "\b\b\b\b\b\b\b\b\b\b\b\b\b\b\b\b\b\b\b\b\b\b\b\b\b\b\b\b\b\b\b\b\b\b\b\b\b\b\b\b\b\b\b\b\b\b\b\b\b\b\b\b\b\b\b\b\b\b\b\b\b\b\b\b\b\b\b\b\b\b\b\b\b\b\b\b\b\b\b\b\b\b\b\b\b\b\b\b\b\b\b\b\b\b\b\b\b\b\b\r233/233 [==============================] - 9s 40ms/step - loss: 0.0013 - root_mean_squared_error: 0.0358 - val_loss: 0.0024 - val_root_mean_squared_error: 0.0485\n",
            "Epoch 6/30\n",
            "233/233 [==============================] - 4s 16ms/step - loss: 0.0013 - root_mean_squared_error: 0.0356 - val_loss: 0.0024 - val_root_mean_squared_error: 0.0489\n",
            "Epoch 7/30\n",
            "233/233 [==============================] - 4s 16ms/step - loss: 0.0012 - root_mean_squared_error: 0.0351 - val_loss: 0.0024 - val_root_mean_squared_error: 0.0487\n",
            "Epoch 8/30\n",
            "233/233 [==============================] - ETA: 0s - loss: 0.0012 - root_mean_squared_error: 0.0350"
          ]
        },
        {
          "output_type": "stream",
          "name": "stderr",
          "text": [
            "WARNING:absl:Found untraced functions such as lstm_cell_layer_call_fn, lstm_cell_layer_call_and_return_conditional_losses while saving (showing 2 of 2). These functions will not be directly callable after loading.\n"
          ]
        },
        {
          "output_type": "stream",
          "name": "stdout",
          "text": [
            "INFO:tensorflow:Assets written to: model1/assets\n"
          ]
        },
        {
          "output_type": "stream",
          "name": "stderr",
          "text": [
            "INFO:tensorflow:Assets written to: model1/assets\n",
            "WARNING:absl:<keras.layers.recurrent.LSTMCell object at 0x7fdb6151a090> has the same name 'LSTMCell' as a built-in Keras object. Consider renaming <class 'keras.layers.recurrent.LSTMCell'> to avoid naming conflicts when loading with `tf.keras.models.load_model`. If renaming is not possible, pass the object in the `custom_objects` parameter of the load function.\n"
          ]
        },
        {
          "output_type": "stream",
          "name": "stdout",
          "text": [
            "\b\b\b\b\b\b\b\b\b\b\b\b\b\b\b\b\b\b\b\b\b\b\b\b\b\b\b\b\b\b\b\b\b\b\b\b\b\b\b\b\b\b\b\b\b\b\b\b\b\b\b\b\b\b\b\b\b\b\b\b\b\b\b\b\b\b\b\b\b\b\b\b\b\b\b\b\b\b\b\b\b\b\b\b\b\b\b\b\b\b\b\b\b\b\b\b\b\b\b\r233/233 [==============================] - 9s 38ms/step - loss: 0.0012 - root_mean_squared_error: 0.0350 - val_loss: 0.0022 - val_root_mean_squared_error: 0.0474\n",
            "Epoch 9/30\n",
            "233/233 [==============================] - 4s 17ms/step - loss: 0.0012 - root_mean_squared_error: 0.0346 - val_loss: 0.0027 - val_root_mean_squared_error: 0.0516\n",
            "Epoch 10/30\n",
            "233/233 [==============================] - 4s 17ms/step - loss: 0.0012 - root_mean_squared_error: 0.0348 - val_loss: 0.0025 - val_root_mean_squared_error: 0.0500\n",
            "Epoch 11/30\n",
            "233/233 [==============================] - 4s 17ms/step - loss: 0.0012 - root_mean_squared_error: 0.0345 - val_loss: 0.0024 - val_root_mean_squared_error: 0.0489\n",
            "Epoch 12/30\n",
            "233/233 [==============================] - 4s 17ms/step - loss: 0.0012 - root_mean_squared_error: 0.0343 - val_loss: 0.0024 - val_root_mean_squared_error: 0.0486\n",
            "Epoch 13/30\n",
            "233/233 [==============================] - 4s 18ms/step - loss: 0.0012 - root_mean_squared_error: 0.0343 - val_loss: 0.0025 - val_root_mean_squared_error: 0.0501\n",
            "Epoch 14/30\n",
            "233/233 [==============================] - 4s 17ms/step - loss: 0.0012 - root_mean_squared_error: 0.0342 - val_loss: 0.0023 - val_root_mean_squared_error: 0.0481\n",
            "Epoch 15/30\n",
            "233/233 [==============================] - 4s 17ms/step - loss: 0.0012 - root_mean_squared_error: 0.0340 - val_loss: 0.0029 - val_root_mean_squared_error: 0.0543\n",
            "Epoch 16/30\n",
            "233/233 [==============================] - 4s 16ms/step - loss: 0.0012 - root_mean_squared_error: 0.0342 - val_loss: 0.0025 - val_root_mean_squared_error: 0.0499\n",
            "Epoch 17/30\n",
            "233/233 [==============================] - 4s 16ms/step - loss: 0.0011 - root_mean_squared_error: 0.0338 - val_loss: 0.0024 - val_root_mean_squared_error: 0.0487\n",
            "Epoch 18/30\n",
            "233/233 [==============================] - 4s 16ms/step - loss: 0.0012 - root_mean_squared_error: 0.0341 - val_loss: 0.0026 - val_root_mean_squared_error: 0.0513\n",
            "Epoch 19/30\n",
            "233/233 [==============================] - 4s 16ms/step - loss: 0.0011 - root_mean_squared_error: 0.0338 - val_loss: 0.0028 - val_root_mean_squared_error: 0.0532\n",
            "Epoch 20/30\n",
            "233/233 [==============================] - 4s 16ms/step - loss: 0.0012 - root_mean_squared_error: 0.0339 - val_loss: 0.0026 - val_root_mean_squared_error: 0.0507\n",
            "Epoch 21/30\n",
            "233/233 [==============================] - 4s 16ms/step - loss: 0.0011 - root_mean_squared_error: 0.0337 - val_loss: 0.0026 - val_root_mean_squared_error: 0.0511\n",
            "Epoch 22/30\n",
            "233/233 [==============================] - 4s 18ms/step - loss: 0.0011 - root_mean_squared_error: 0.0336 - val_loss: 0.0027 - val_root_mean_squared_error: 0.0524\n",
            "Epoch 23/30\n",
            "233/233 [==============================] - 4s 16ms/step - loss: 0.0011 - root_mean_squared_error: 0.0337 - val_loss: 0.0027 - val_root_mean_squared_error: 0.0521\n",
            "Epoch 24/30\n",
            "233/233 [==============================] - 4s 16ms/step - loss: 0.0011 - root_mean_squared_error: 0.0337 - val_loss: 0.0027 - val_root_mean_squared_error: 0.0521\n",
            "Epoch 25/30\n",
            "233/233 [==============================] - 4s 16ms/step - loss: 0.0011 - root_mean_squared_error: 0.0335 - val_loss: 0.0029 - val_root_mean_squared_error: 0.0537\n",
            "Epoch 26/30\n",
            "233/233 [==============================] - 4s 16ms/step - loss: 0.0011 - root_mean_squared_error: 0.0333 - val_loss: 0.0029 - val_root_mean_squared_error: 0.0536\n",
            "Epoch 27/30\n",
            "233/233 [==============================] - 4s 16ms/step - loss: 0.0011 - root_mean_squared_error: 0.0333 - val_loss: 0.0027 - val_root_mean_squared_error: 0.0517\n",
            "Epoch 28/30\n",
            "233/233 [==============================] - 4s 16ms/step - loss: 0.0011 - root_mean_squared_error: 0.0333 - val_loss: 0.0027 - val_root_mean_squared_error: 0.0522\n",
            "Epoch 29/30\n",
            "233/233 [==============================] - 4s 16ms/step - loss: 0.0011 - root_mean_squared_error: 0.0330 - val_loss: 0.0028 - val_root_mean_squared_error: 0.0534\n",
            "Epoch 30/30\n",
            "233/233 [==============================] - 4s 16ms/step - loss: 0.0011 - root_mean_squared_error: 0.0332 - val_loss: 0.0028 - val_root_mean_squared_error: 0.0527\n"
          ]
        },
        {
          "output_type": "execute_result",
          "data": {
            "text/plain": [
              "<keras.callbacks.History at 0x7fdb612cf390>"
            ]
          },
          "metadata": {},
          "execution_count": 17
        }
      ]
    },
    {
      "cell_type": "code",
      "source": [
        ""
      ],
      "metadata": {
        "id": "2_1hbJJVX83d"
      },
      "execution_count": null,
      "outputs": []
    },
    {
      "cell_type": "code",
      "source": [
        "from keras.models import load_model\n",
        "model1=load_model('model1/')"
      ],
      "metadata": {
        "id": "-7roLxQN9y9q"
      },
      "execution_count": null,
      "outputs": []
    },
    {
      "cell_type": "code",
      "source": [
        "train_predictions=model1.predict(X_train1).flatten()\n",
        "train_results=pd.DataFrame(data={'Train Predictions':train_predictions, 'Actuals':y_train1})\n",
        "train_results"
      ],
      "metadata": {
        "id": "fvYOUPIc-Boe",
        "colab": {
          "base_uri": "https://localhost:8080/",
          "height": 424
        },
        "outputId": "c562dc23-27de-4c67-dad9-4f7c9ce09b3c"
      },
      "execution_count": null,
      "outputs": [
        {
          "output_type": "execute_result",
          "data": {
            "text/plain": [
              "      Train Predictions   Actuals\n",
              "0              0.034838  0.053357\n",
              "1              0.031346  0.050671\n",
              "2              0.028261  0.047449\n",
              "3              0.023156  0.047449\n",
              "4              0.021009  0.042525\n",
              "...                 ...       ...\n",
              "7424           0.011691  0.003679\n",
              "7425           0.011524  0.003053\n",
              "7426           0.011558  0.002865\n",
              "7427           0.011417  0.017719\n",
              "7428           0.010863  0.018979\n",
              "\n",
              "[7429 rows x 2 columns]"
            ],
            "text/html": [
              "\n",
              "  <div id=\"df-89fafc19-9f45-4caf-b883-82e045282a82\">\n",
              "    <div class=\"colab-df-container\">\n",
              "      <div>\n",
              "<style scoped>\n",
              "    .dataframe tbody tr th:only-of-type {\n",
              "        vertical-align: middle;\n",
              "    }\n",
              "\n",
              "    .dataframe tbody tr th {\n",
              "        vertical-align: top;\n",
              "    }\n",
              "\n",
              "    .dataframe thead th {\n",
              "        text-align: right;\n",
              "    }\n",
              "</style>\n",
              "<table border=\"1\" class=\"dataframe\">\n",
              "  <thead>\n",
              "    <tr style=\"text-align: right;\">\n",
              "      <th></th>\n",
              "      <th>Train Predictions</th>\n",
              "      <th>Actuals</th>\n",
              "    </tr>\n",
              "  </thead>\n",
              "  <tbody>\n",
              "    <tr>\n",
              "      <th>0</th>\n",
              "      <td>0.034838</td>\n",
              "      <td>0.053357</td>\n",
              "    </tr>\n",
              "    <tr>\n",
              "      <th>1</th>\n",
              "      <td>0.031346</td>\n",
              "      <td>0.050671</td>\n",
              "    </tr>\n",
              "    <tr>\n",
              "      <th>2</th>\n",
              "      <td>0.028261</td>\n",
              "      <td>0.047449</td>\n",
              "    </tr>\n",
              "    <tr>\n",
              "      <th>3</th>\n",
              "      <td>0.023156</td>\n",
              "      <td>0.047449</td>\n",
              "    </tr>\n",
              "    <tr>\n",
              "      <th>4</th>\n",
              "      <td>0.021009</td>\n",
              "      <td>0.042525</td>\n",
              "    </tr>\n",
              "    <tr>\n",
              "      <th>...</th>\n",
              "      <td>...</td>\n",
              "      <td>...</td>\n",
              "    </tr>\n",
              "    <tr>\n",
              "      <th>7424</th>\n",
              "      <td>0.011691</td>\n",
              "      <td>0.003679</td>\n",
              "    </tr>\n",
              "    <tr>\n",
              "      <th>7425</th>\n",
              "      <td>0.011524</td>\n",
              "      <td>0.003053</td>\n",
              "    </tr>\n",
              "    <tr>\n",
              "      <th>7426</th>\n",
              "      <td>0.011558</td>\n",
              "      <td>0.002865</td>\n",
              "    </tr>\n",
              "    <tr>\n",
              "      <th>7427</th>\n",
              "      <td>0.011417</td>\n",
              "      <td>0.017719</td>\n",
              "    </tr>\n",
              "    <tr>\n",
              "      <th>7428</th>\n",
              "      <td>0.010863</td>\n",
              "      <td>0.018979</td>\n",
              "    </tr>\n",
              "  </tbody>\n",
              "</table>\n",
              "<p>7429 rows × 2 columns</p>\n",
              "</div>\n",
              "      <button class=\"colab-df-convert\" onclick=\"convertToInteractive('df-89fafc19-9f45-4caf-b883-82e045282a82')\"\n",
              "              title=\"Convert this dataframe to an interactive table.\"\n",
              "              style=\"display:none;\">\n",
              "        \n",
              "  <svg xmlns=\"http://www.w3.org/2000/svg\" height=\"24px\"viewBox=\"0 0 24 24\"\n",
              "       width=\"24px\">\n",
              "    <path d=\"M0 0h24v24H0V0z\" fill=\"none\"/>\n",
              "    <path d=\"M18.56 5.44l.94 2.06.94-2.06 2.06-.94-2.06-.94-.94-2.06-.94 2.06-2.06.94zm-11 1L8.5 8.5l.94-2.06 2.06-.94-2.06-.94L8.5 2.5l-.94 2.06-2.06.94zm10 10l.94 2.06.94-2.06 2.06-.94-2.06-.94-.94-2.06-.94 2.06-2.06.94z\"/><path d=\"M17.41 7.96l-1.37-1.37c-.4-.4-.92-.59-1.43-.59-.52 0-1.04.2-1.43.59L10.3 9.45l-7.72 7.72c-.78.78-.78 2.05 0 2.83L4 21.41c.39.39.9.59 1.41.59.51 0 1.02-.2 1.41-.59l7.78-7.78 2.81-2.81c.8-.78.8-2.07 0-2.86zM5.41 20L4 18.59l7.72-7.72 1.47 1.35L5.41 20z\"/>\n",
              "  </svg>\n",
              "      </button>\n",
              "      \n",
              "  <style>\n",
              "    .colab-df-container {\n",
              "      display:flex;\n",
              "      flex-wrap:wrap;\n",
              "      gap: 12px;\n",
              "    }\n",
              "\n",
              "    .colab-df-convert {\n",
              "      background-color: #E8F0FE;\n",
              "      border: none;\n",
              "      border-radius: 50%;\n",
              "      cursor: pointer;\n",
              "      display: none;\n",
              "      fill: #1967D2;\n",
              "      height: 32px;\n",
              "      padding: 0 0 0 0;\n",
              "      width: 32px;\n",
              "    }\n",
              "\n",
              "    .colab-df-convert:hover {\n",
              "      background-color: #E2EBFA;\n",
              "      box-shadow: 0px 1px 2px rgba(60, 64, 67, 0.3), 0px 1px 3px 1px rgba(60, 64, 67, 0.15);\n",
              "      fill: #174EA6;\n",
              "    }\n",
              "\n",
              "    [theme=dark] .colab-df-convert {\n",
              "      background-color: #3B4455;\n",
              "      fill: #D2E3FC;\n",
              "    }\n",
              "\n",
              "    [theme=dark] .colab-df-convert:hover {\n",
              "      background-color: #434B5C;\n",
              "      box-shadow: 0px 1px 3px 1px rgba(0, 0, 0, 0.15);\n",
              "      filter: drop-shadow(0px 1px 2px rgba(0, 0, 0, 0.3));\n",
              "      fill: #FFFFFF;\n",
              "    }\n",
              "  </style>\n",
              "\n",
              "      <script>\n",
              "        const buttonEl =\n",
              "          document.querySelector('#df-89fafc19-9f45-4caf-b883-82e045282a82 button.colab-df-convert');\n",
              "        buttonEl.style.display =\n",
              "          google.colab.kernel.accessAllowed ? 'block' : 'none';\n",
              "\n",
              "        async function convertToInteractive(key) {\n",
              "          const element = document.querySelector('#df-89fafc19-9f45-4caf-b883-82e045282a82');\n",
              "          const dataTable =\n",
              "            await google.colab.kernel.invokeFunction('convertToInteractive',\n",
              "                                                     [key], {});\n",
              "          if (!dataTable) return;\n",
              "\n",
              "          const docLinkHtml = 'Like what you see? Visit the ' +\n",
              "            '<a target=\"_blank\" href=https://colab.research.google.com/notebooks/data_table.ipynb>data table notebook</a>'\n",
              "            + ' to learn more about interactive tables.';\n",
              "          element.innerHTML = '';\n",
              "          dataTable['output_type'] = 'display_data';\n",
              "          await google.colab.output.renderOutput(dataTable, element);\n",
              "          const docLink = document.createElement('div');\n",
              "          docLink.innerHTML = docLinkHtml;\n",
              "          element.appendChild(docLink);\n",
              "        }\n",
              "      </script>\n",
              "    </div>\n",
              "  </div>\n",
              "  "
            ]
          },
          "metadata": {},
          "execution_count": 19
        }
      ]
    },
    {
      "cell_type": "code",
      "source": [
        "import matplotlib.pyplot as plt\n",
        "plt.plot(train_results['Train Predictions'],linewidth=5)\n",
        "plt.plot(train_results['Actuals'])\n",
        "plt.legend(['Prediction', 'Actual'])\n",
        "plt.title('Training')"
      ],
      "metadata": {
        "id": "60-qHL5KJXHC",
        "colab": {
          "base_uri": "https://localhost:8080/",
          "height": 536
        },
        "outputId": "fb932318-05f2-482e-d252-454ca93719c3"
      },
      "execution_count": null,
      "outputs": [
        {
          "output_type": "execute_result",
          "data": {
            "text/plain": [
              "Text(0.5, 1.0, 'Training')"
            ]
          },
          "metadata": {},
          "execution_count": 47
        },
        {
          "output_type": "display_data",
          "data": {
            "text/plain": [
              "<Figure size 1728x576 with 1 Axes>"
            ],
            "image/png": "[encoded data removed]"
          },
          "metadata": {
            "needs_background": "light"
          }
        }
      ]
    },
    {
      "cell_type": "code",
      "source": [
        "val_predictions=model1.predict(X_val1).flatten()\n",
        "val_results=pd.DataFrame(data={'val Predictions':val_predictions, 'Actuals':y_val1})\n",
        "val_results"
      ],
      "metadata": {
        "id": "fBJfzRHW_7mT",
        "colab": {
          "base_uri": "https://localhost:8080/",
          "height": 424
        },
        "outputId": "91cfaed7-8208-4390-8caf-6997ad022e18"
      },
      "execution_count": null,
      "outputs": [
        {
          "output_type": "execute_result",
          "data": {
            "text/plain": [
              "     val Predictions   Actuals\n",
              "0           0.013994  0.017189\n",
              "1           0.014304  0.016562\n",
              "2           0.014068  0.016115\n",
              "3           0.014008  0.015488\n",
              "4           0.012093  0.015398\n",
              "..               ...       ...\n",
              "738         0.015606  0.018800\n",
              "739         0.014909  0.017905\n",
              "740         0.014783  0.017278\n",
              "741         0.014320  0.017719\n",
              "742         0.012343  0.017719\n",
              "\n",
              "[743 rows x 2 columns]"
            ],
            "text/html": [
              "\n",
              "  <div id=\"df-72bd45e6-6be4-477f-beb6-144b68fa3bd4\">\n",
              "    <div class=\"colab-df-container\">\n",
              "      <div>\n",
              "<style scoped>\n",
              "    .dataframe tbody tr th:only-of-type {\n",
              "        vertical-align: middle;\n",
              "    }\n",
              "\n",
              "    .dataframe tbody tr th {\n",
              "        vertical-align: top;\n",
              "    }\n",
              "\n",
              "    .dataframe thead th {\n",
              "        text-align: right;\n",
              "    }\n",
              "</style>\n",
              "<table border=\"1\" class=\"dataframe\">\n",
              "  <thead>\n",
              "    <tr style=\"text-align: right;\">\n",
              "      <th></th>\n",
              "      <th>val Predictions</th>\n",
              "      <th>Actuals</th>\n",
              "    </tr>\n",
              "  </thead>\n",
              "  <tbody>\n",
              "    <tr>\n",
              "      <th>0</th>\n",
              "      <td>0.013994</td>\n",
              "      <td>0.017189</td>\n",
              "    </tr>\n",
              "    <tr>\n",
              "      <th>1</th>\n",
              "      <td>0.014304</td>\n",
              "      <td>0.016562</td>\n",
              "    </tr>\n",
              "    <tr>\n",
              "      <th>2</th>\n",
              "      <td>0.014068</td>\n",
              "      <td>0.016115</td>\n",
              "    </tr>\n",
              "    <tr>\n",
              "      <th>3</th>\n",
              "      <td>0.014008</td>\n",
              "      <td>0.015488</td>\n",
              "    </tr>\n",
              "    <tr>\n",
              "      <th>4</th>\n",
              "      <td>0.012093</td>\n",
              "      <td>0.015398</td>\n",
              "    </tr>\n",
              "    <tr>\n",
              "      <th>...</th>\n",
              "      <td>...</td>\n",
              "      <td>...</td>\n",
              "    </tr>\n",
              "    <tr>\n",
              "      <th>738</th>\n",
              "      <td>0.015606</td>\n",
              "      <td>0.018800</td>\n",
              "    </tr>\n",
              "    <tr>\n",
              "      <th>739</th>\n",
              "      <td>0.014909</td>\n",
              "      <td>0.017905</td>\n",
              "    </tr>\n",
              "    <tr>\n",
              "      <th>740</th>\n",
              "      <td>0.014783</td>\n",
              "      <td>0.017278</td>\n",
              "    </tr>\n",
              "    <tr>\n",
              "      <th>741</th>\n",
              "      <td>0.014320</td>\n",
              "      <td>0.017719</td>\n",
              "    </tr>\n",
              "    <tr>\n",
              "      <th>742</th>\n",
              "      <td>0.012343</td>\n",
              "      <td>0.017719</td>\n",
              "    </tr>\n",
              "  </tbody>\n",
              "</table>\n",
              "<p>743 rows × 2 columns</p>\n",
              "</div>\n",
              "      <button class=\"colab-df-convert\" onclick=\"convertToInteractive('df-72bd45e6-6be4-477f-beb6-144b68fa3bd4')\"\n",
              "              title=\"Convert this dataframe to an interactive table.\"\n",
              "              style=\"display:none;\">\n",
              "        \n",
              "  <svg xmlns=\"http://www.w3.org/2000/svg\" height=\"24px\"viewBox=\"0 0 24 24\"\n",
              "       width=\"24px\">\n",
              "    <path d=\"M0 0h24v24H0V0z\" fill=\"none\"/>\n",
              "    <path d=\"M18.56 5.44l.94 2.06.94-2.06 2.06-.94-2.06-.94-.94-2.06-.94 2.06-2.06.94zm-11 1L8.5 8.5l.94-2.06 2.06-.94-2.06-.94L8.5 2.5l-.94 2.06-2.06.94zm10 10l.94 2.06.94-2.06 2.06-.94-2.06-.94-.94-2.06-.94 2.06-2.06.94z\"/><path d=\"M17.41 7.96l-1.37-1.37c-.4-.4-.92-.59-1.43-.59-.52 0-1.04.2-1.43.59L10.3 9.45l-7.72 7.72c-.78.78-.78 2.05 0 2.83L4 21.41c.39.39.9.59 1.41.59.51 0 1.02-.2 1.41-.59l7.78-7.78 2.81-2.81c.8-.78.8-2.07 0-2.86zM5.41 20L4 18.59l7.72-7.72 1.47 1.35L5.41 20z\"/>\n",
              "  </svg>\n",
              "      </button>\n",
              "      \n",
              "  <style>\n",
              "    .colab-df-container {\n",
              "      display:flex;\n",
              "      flex-wrap:wrap;\n",
              "      gap: 12px;\n",
              "    }\n",
              "\n",
              "    .colab-df-convert {\n",
              "      background-color: #E8F0FE;\n",
              "      border: none;\n",
              "      border-radius: 50%;\n",
              "      cursor: pointer;\n",
              "      display: none;\n",
              "      fill: #1967D2;\n",
              "      height: 32px;\n",
              "      padding: 0 0 0 0;\n",
              "      width: 32px;\n",
              "    }\n",
              "\n",
              "    .colab-df-convert:hover {\n",
              "      background-color: #E2EBFA;\n",
              "      box-shadow: 0px 1px 2px rgba(60, 64, 67, 0.3), 0px 1px 3px 1px rgba(60, 64, 67, 0.15);\n",
              "      fill: #174EA6;\n",
              "    }\n",
              "\n",
              "    [theme=dark] .colab-df-convert {\n",
              "      background-color: #3B4455;\n",
              "      fill: #D2E3FC;\n",
              "    }\n",
              "\n",
              "    [theme=dark] .colab-df-convert:hover {\n",
              "      background-color: #434B5C;\n",
              "      box-shadow: 0px 1px 3px 1px rgba(0, 0, 0, 0.15);\n",
              "      filter: drop-shadow(0px 1px 2px rgba(0, 0, 0, 0.3));\n",
              "      fill: #FFFFFF;\n",
              "    }\n",
              "  </style>\n",
              "\n",
              "      <script>\n",
              "        const buttonEl =\n",
              "          document.querySelector('#df-72bd45e6-6be4-477f-beb6-144b68fa3bd4 button.colab-df-convert');\n",
              "        buttonEl.style.display =\n",
              "          google.colab.kernel.accessAllowed ? 'block' : 'none';\n",
              "\n",
              "        async function convertToInteractive(key) {\n",
              "          const element = document.querySelector('#df-72bd45e6-6be4-477f-beb6-144b68fa3bd4');\n",
              "          const dataTable =\n",
              "            await google.colab.kernel.invokeFunction('convertToInteractive',\n",
              "                                                     [key], {});\n",
              "          if (!dataTable) return;\n",
              "\n",
              "          const docLinkHtml = 'Like what you see? Visit the ' +\n",
              "            '<a target=\"_blank\" href=https://colab.research.google.com/notebooks/data_table.ipynb>data table notebook</a>'\n",
              "            + ' to learn more about interactive tables.';\n",
              "          element.innerHTML = '';\n",
              "          dataTable['output_type'] = 'display_data';\n",
              "          await google.colab.output.renderOutput(dataTable, element);\n",
              "          const docLink = document.createElement('div');\n",
              "          docLink.innerHTML = docLinkHtml;\n",
              "          element.appendChild(docLink);\n",
              "        }\n",
              "      </script>\n",
              "    </div>\n",
              "  </div>\n",
              "  "
            ]
          },
          "metadata": {},
          "execution_count": 21
        }
      ]
    },
    {
      "cell_type": "code",
      "source": [
        "test_predictions=model1.predict(X_test1).flatten()\n",
        "test_results=pd.DataFrame(data={'test Predictions':test_predictions, 'Actuals':y_test1})\n",
        "test_results"
      ],
      "metadata": {
        "id": "bM2PQnkiAB5l",
        "colab": {
          "base_uri": "https://localhost:8080/",
          "height": 424
        },
        "outputId": "5feeb8a5-4b2d-4719-abd5-61af4df9c81d"
      },
      "execution_count": null,
      "outputs": [
        {
          "output_type": "execute_result",
          "data": {
            "text/plain": [
              "      test Predictions   Actuals\n",
              "0             0.011465  0.017457\n",
              "1             0.012224  0.017099\n",
              "2             0.011539  0.016920\n",
              "3             0.011054  0.016473\n",
              "4             0.010112  0.016204\n",
              "...                ...       ...\n",
              "1109          0.013511  0.012981\n",
              "1110          0.013050  0.012444\n",
              "1111          0.012589  0.012175\n",
              "1112          0.012247  0.011728\n",
              "1113          0.012068  0.011728\n",
              "\n",
              "[1114 rows x 2 columns]"
            ],
            "text/html": [
              "\n",
              "  <div id=\"df-06372c51-7fc8-435a-a2df-1cd1a1c87f3a\">\n",
              "    <div class=\"colab-df-container\">\n",
              "      <div>\n",
              "<style scoped>\n",
              "    .dataframe tbody tr th:only-of-type {\n",
              "        vertical-align: middle;\n",
              "    }\n",
              "\n",
              "    .dataframe tbody tr th {\n",
              "        vertical-align: top;\n",
              "    }\n",
              "\n",
              "    .dataframe thead th {\n",
              "        text-align: right;\n",
              "    }\n",
              "</style>\n",
              "<table border=\"1\" class=\"dataframe\">\n",
              "  <thead>\n",
              "    <tr style=\"text-align: right;\">\n",
              "      <th></th>\n",
              "      <th>test Predictions</th>\n",
              "      <th>Actuals</th>\n",
              "    </tr>\n",
              "  </thead>\n",
              "  <tbody>\n",
              "    <tr>\n",
              "      <th>0</th>\n",
              "      <td>0.011465</td>\n",
              "      <td>0.017457</td>\n",
              "    </tr>\n",
              "    <tr>\n",
              "      <th>1</th>\n",
              "      <td>0.012224</td>\n",
              "      <td>0.017099</td>\n",
              "    </tr>\n",
              "    <tr>\n",
              "      <th>2</th>\n",
              "      <td>0.011539</td>\n",
              "      <td>0.016920</td>\n",
              "    </tr>\n",
              "    <tr>\n",
              "      <th>3</th>\n",
              "      <td>0.011054</td>\n",
              "      <td>0.016473</td>\n",
              "    </tr>\n",
              "    <tr>\n",
              "      <th>4</th>\n",
              "      <td>0.010112</td>\n",
              "      <td>0.016204</td>\n",
              "    </tr>\n",
              "    <tr>\n",
              "      <th>...</th>\n",
              "      <td>...</td>\n",
              "      <td>...</td>\n",
              "    </tr>\n",
              "    <tr>\n",
              "      <th>1109</th>\n",
              "      <td>0.013511</td>\n",
              "      <td>0.012981</td>\n",
              "    </tr>\n",
              "    <tr>\n",
              "      <th>1110</th>\n",
              "      <td>0.013050</td>\n",
              "      <td>0.012444</td>\n",
              "    </tr>\n",
              "    <tr>\n",
              "      <th>1111</th>\n",
              "      <td>0.012589</td>\n",
              "      <td>0.012175</td>\n",
              "    </tr>\n",
              "    <tr>\n",
              "      <th>1112</th>\n",
              "      <td>0.012247</td>\n",
              "      <td>0.011728</td>\n",
              "    </tr>\n",
              "    <tr>\n",
              "      <th>1113</th>\n",
              "      <td>0.012068</td>\n",
              "      <td>0.011728</td>\n",
              "    </tr>\n",
              "  </tbody>\n",
              "</table>\n",
              "<p>1114 rows × 2 columns</p>\n",
              "</div>\n",
              "      <button class=\"colab-df-convert\" onclick=\"convertToInteractive('df-06372c51-7fc8-435a-a2df-1cd1a1c87f3a')\"\n",
              "              title=\"Convert this dataframe to an interactive table.\"\n",
              "              style=\"display:none;\">\n",
              "        \n",
              "  <svg xmlns=\"http://www.w3.org/2000/svg\" height=\"24px\"viewBox=\"0 0 24 24\"\n",
              "       width=\"24px\">\n",
              "    <path d=\"M0 0h24v24H0V0z\" fill=\"none\"/>\n",
              "    <path d=\"M18.56 5.44l.94 2.06.94-2.06 2.06-.94-2.06-.94-.94-2.06-.94 2.06-2.06.94zm-11 1L8.5 8.5l.94-2.06 2.06-.94-2.06-.94L8.5 2.5l-.94 2.06-2.06.94zm10 10l.94 2.06.94-2.06 2.06-.94-2.06-.94-.94-2.06-.94 2.06-2.06.94z\"/><path d=\"M17.41 7.96l-1.37-1.37c-.4-.4-.92-.59-1.43-.59-.52 0-1.04.2-1.43.59L10.3 9.45l-7.72 7.72c-.78.78-.78 2.05 0 2.83L4 21.41c.39.39.9.59 1.41.59.51 0 1.02-.2 1.41-.59l7.78-7.78 2.81-2.81c.8-.78.8-2.07 0-2.86zM5.41 20L4 18.59l7.72-7.72 1.47 1.35L5.41 20z\"/>\n",
              "  </svg>\n",
              "      </button>\n",
              "      \n",
              "  <style>\n",
              "    .colab-df-container {\n",
              "      display:flex;\n",
              "      flex-wrap:wrap;\n",
              "      gap: 12px;\n",
              "    }\n",
              "\n",
              "    .colab-df-convert {\n",
              "      background-color: #E8F0FE;\n",
              "      border: none;\n",
              "      border-radius: 50%;\n",
              "      cursor: pointer;\n",
              "      display: none;\n",
              "      fill: #1967D2;\n",
              "      height: 32px;\n",
              "      padding: 0 0 0 0;\n",
              "      width: 32px;\n",
              "    }\n",
              "\n",
              "    .colab-df-convert:hover {\n",
              "      background-color: #E2EBFA;\n",
              "      box-shadow: 0px 1px 2px rgba(60, 64, 67, 0.3), 0px 1px 3px 1px rgba(60, 64, 67, 0.15);\n",
              "      fill: #174EA6;\n",
              "    }\n",
              "\n",
              "    [theme=dark] .colab-df-convert {\n",
              "      background-color: #3B4455;\n",
              "      fill: #D2E3FC;\n",
              "    }\n",
              "\n",
              "    [theme=dark] .colab-df-convert:hover {\n",
              "      background-color: #434B5C;\n",
              "      box-shadow: 0px 1px 3px 1px rgba(0, 0, 0, 0.15);\n",
              "      filter: drop-shadow(0px 1px 2px rgba(0, 0, 0, 0.3));\n",
              "      fill: #FFFFFF;\n",
              "    }\n",
              "  </style>\n",
              "\n",
              "      <script>\n",
              "        const buttonEl =\n",
              "          document.querySelector('#df-06372c51-7fc8-435a-a2df-1cd1a1c87f3a button.colab-df-convert');\n",
              "        buttonEl.style.display =\n",
              "          google.colab.kernel.accessAllowed ? 'block' : 'none';\n",
              "\n",
              "        async function convertToInteractive(key) {\n",
              "          const element = document.querySelector('#df-06372c51-7fc8-435a-a2df-1cd1a1c87f3a');\n",
              "          const dataTable =\n",
              "            await google.colab.kernel.invokeFunction('convertToInteractive',\n",
              "                                                     [key], {});\n",
              "          if (!dataTable) return;\n",
              "\n",
              "          const docLinkHtml = 'Like what you see? Visit the ' +\n",
              "            '<a target=\"_blank\" href=https://colab.research.google.com/notebooks/data_table.ipynb>data table notebook</a>'\n",
              "            + ' to learn more about interactive tables.';\n",
              "          element.innerHTML = '';\n",
              "          dataTable['output_type'] = 'display_data';\n",
              "          await google.colab.output.renderOutput(dataTable, element);\n",
              "          const docLink = document.createElement('div');\n",
              "          docLink.innerHTML = docLinkHtml;\n",
              "          element.appendChild(docLink);\n",
              "        }\n",
              "      </script>\n",
              "    </div>\n",
              "  </div>\n",
              "  "
            ]
          },
          "metadata": {},
          "execution_count": 22
        }
      ]
    },
    {
      "cell_type": "code",
      "source": [
        "import matplotlib.pyplot as plt\n",
        "plt.plot(train_results['Train Predictions'],linewidth=5)\n",
        "plt.plot(train_results['Actuals'])"
      ],
      "metadata": {
        "id": "TWPV27xU-rSF",
        "colab": {
          "base_uri": "https://localhost:8080/",
          "height": 282
        },
        "outputId": "011990aa-ee59-49eb-93b4-3c46ff73d886"
      },
      "execution_count": null,
      "outputs": [
        {
          "output_type": "execute_result",
          "data": {
            "text/plain": [
              "[<matplotlib.lines.Line2D at 0x7fdb5df23850>]"
            ]
          },
          "metadata": {},
          "execution_count": 23
        },
        {
          "output_type": "display_data",
          "data": {
            "text/plain": [
              "<Figure size 432x288 with 1 Axes>"
            ],
            "image/png": "[encoded data removed]"
          },
          "metadata": {
            "needs_background": "light"
          }
        }
      ]
    },
    {
      "cell_type": "code",
      "source": [
        "plt.plot(train_results['Train Predictions'][0:1000])\n",
        "plt.plot(train_results['Actuals'][0:1000])\n",
        "plt.legend(['Prediction', 'Actual'])\n",
        "plt.title('Training')"
      ],
      "metadata": {
        "id": "Y4n3jnHx_duY",
        "colab": {
          "base_uri": "https://localhost:8080/",
          "height": 484
        },
        "outputId": "fbed7377-a168-420d-ddc5-12f05f77c96b"
      },
      "execution_count": null,
      "outputs": [
        {
          "output_type": "execute_result",
          "data": {
            "text/plain": [
              "Text(0.5, 1.0, 'Training')"
            ]
          },
          "metadata": {},
          "execution_count": 50
        },
        {
          "output_type": "display_data",
          "data": {
            "text/plain": [
              "<Figure size 1728x576 with 1 Axes>"
            ],
            "image/png": "[encoded data removed]"
          },
          "metadata": {
            "needs_background": "light"
          }
        }
      ]
    },
    {
      "cell_type": "code",
      "source": [
        "plt.plot(val_results['val Predictions'][0:1000])\n",
        "plt.plot(val_results['Actuals'][0:1000])\n",
        "plt.legend(['Prediction', 'Actual'])\n",
        "plt.title('validation')"
      ],
      "metadata": {
        "colab": {
          "base_uri": "https://localhost:8080/",
          "height": 484
        },
        "id": "N7Qkwv_Naf-0",
        "outputId": "9aa689c5-80b6-41dc-b62c-2c63781407e9"
      },
      "execution_count": null,
      "outputs": [
        {
          "output_type": "execute_result",
          "data": {
            "text/plain": [
              "Text(0.5, 1.0, 'validation')"
            ]
          },
          "metadata": {},
          "execution_count": 51
        },
        {
          "output_type": "display_data",
          "data": {
            "text/plain": [
              "<Figure size 1728x576 with 1 Axes>"
            ],
            "image/png": "[encoded data removed]"
          },
          "metadata": {
            "needs_background": "light"
          }
        }
      ]
    },
    {
      "cell_type": "code",
      "source": [
        "plt.plot(val_results['val Predictions'][500:1000])\n",
        "plt.plot(val_results['Actuals'][500:1000])"
      ],
      "metadata": {
        "id": "8HZ55pK8_q7w",
        "colab": {
          "base_uri": "https://localhost:8080/",
          "height": 282
        },
        "outputId": "56428626-9f7e-4b38-e47d-ab130ffd47af"
      },
      "execution_count": null,
      "outputs": [
        {
          "output_type": "execute_result",
          "data": {
            "text/plain": [
              "[<matplotlib.lines.Line2D at 0x7fdb5de4f110>]"
            ]
          },
          "metadata": {},
          "execution_count": 25
        },
        {
          "output_type": "display_data",
          "data": {
            "text/plain": [
              "<Figure size 432x288 with 1 Axes>"
            ],
            "image/png": "[encoded data removed]"
          },
          "metadata": {
            "needs_background": "light"
          }
        }
      ]
    },
    {
      "cell_type": "code",
      "source": [
        "plt.plot(test_results['test Predictions'][500:1000])\n",
        "plt.plot(test_results['Actuals'][500:1000])"
      ],
      "metadata": {
        "id": "h5U7gFXkAWws",
        "colab": {
          "base_uri": "https://localhost:8080/",
          "height": 282
        },
        "outputId": "6e2274de-0c71-4be3-8427-ac7960fb259f"
      },
      "execution_count": null,
      "outputs": [
        {
          "output_type": "execute_result",
          "data": {
            "text/plain": [
              "[<matplotlib.lines.Line2D at 0x7fdb5de37ed0>]"
            ]
          },
          "metadata": {},
          "execution_count": 26
        },
        {
          "output_type": "display_data",
          "data": {
            "text/plain": [
              "<Figure size 432x288 with 1 Axes>"
            ],
            "image/png": "[encoded data removed]"
          },
          "metadata": {
            "needs_background": "light"
          }
        }
      ]
    },
    {
      "cell_type": "code",
      "source": [
        "from sklearn.metrics import mean_squared_error as mse\n",
        "def plot_predictions1(model,X,y,start=0, end=1000):\n",
        "  predictions=model.predict(X).flatten()\n",
        "  dff=pd.DataFrame(data={'predictions':predictions, 'Actuals':y})\n",
        "  plt.plot(dff['predictions'][start:end], linewidth=2)\n",
        "  plt.plot(dff['Actuals'][start:end])\n",
        "  plt.legend(['Prediction', 'Actual'])\n",
        "  plt.title('Test MSE= '+str(mse(y,predictions)))\n",
        "  plt.rcParams['figure.figsize'] = [24, 8]\n",
        "  return dff, mse(y,predictions)\n"
      ],
      "metadata": {
        "id": "U1x9A36YOKdW"
      },
      "execution_count": null,
      "outputs": []
    },
    {
      "cell_type": "code",
      "source": [
        "plot_predictions1(model1,X_test1,y_test1)"
      ],
      "metadata": {
        "colab": {
          "base_uri": "https://localhost:8080/",
          "height": 710
        },
        "id": "M7a6LbrePOoC",
        "outputId": "032a9240-eff7-4dc5-f17c-d1d13071138d"
      },
      "execution_count": null,
      "outputs": [
        {
          "output_type": "execute_result",
          "data": {
            "text/plain": [
              "(      predictions   Actuals\n",
              " 0        0.011465  0.017457\n",
              " 1        0.012224  0.017099\n",
              " 2        0.011539  0.016920\n",
              " 3        0.011054  0.016473\n",
              " 4        0.010112  0.016204\n",
              " ...           ...       ...\n",
              " 1109     0.013511  0.012981\n",
              " 1110     0.013050  0.012444\n",
              " 1111     0.012589  0.012175\n",
              " 1112     0.012247  0.011728\n",
              " 1113     0.012068  0.011728\n",
              " \n",
              " [1114 rows x 2 columns], 0.0009329522182209269)"
            ]
          },
          "metadata": {},
          "execution_count": 54
        },
        {
          "output_type": "display_data",
          "data": {
            "text/plain": [
              "<Figure size 1728x576 with 1 Axes>"
            ],
            "image/png": "[encoded data removed]"
          },
          "metadata": {
            "needs_background": "light"
          }
        }
      ]
    },
    {
      "cell_type": "code",
      "source": [
        "model2=Sequential()\n",
        "model2.add(InputLayer((X_train1.shape[1],X_train1.shape[2])))\n",
        "model2.add(Conv1D(128, kernel_size=2))\n",
        "model2.add(Flatten())\n",
        "model2.add(Dense(128,'relu'))\n",
        "model2.add(Dense(128,'relu'))\n",
        "model2.add(Dense(1,'linear'))\n",
        "model2.summary()"
      ],
      "metadata": {
        "colab": {
          "base_uri": "https://localhost:8080/"
        },
        "id": "Q9b-0jRDS54M",
        "outputId": "88420270-22aa-4d54-cb5e-64e307391cd7"
      },
      "execution_count": null,
      "outputs": [
        {
          "output_type": "stream",
          "name": "stdout",
          "text": [
            "Model: \"sequential_1\"\n",
            "_________________________________________________________________\n",
            " Layer (type)                Output Shape              Param #   \n",
            "=================================================================\n",
            " conv1d (Conv1D)             (None, 11, 128)           2176      \n",
            "                                                                 \n",
            " flatten (Flatten)           (None, 1408)              0         \n",
            "                                                                 \n",
            " dense_3 (Dense)             (None, 128)               180352    \n",
            "                                                                 \n",
            " dense_4 (Dense)             (None, 128)               16512     \n",
            "                                                                 \n",
            " dense_5 (Dense)             (None, 1)                 129       \n",
            "                                                                 \n",
            "=================================================================\n",
            "Total params: 199,169\n",
            "Trainable params: 199,169\n",
            "Non-trainable params: 0\n",
            "_________________________________________________________________\n"
          ]
        }
      ]
    },
    {
      "cell_type": "code",
      "source": [
        "cp2=ModelCheckpoint('model2/', save_best_only=True)\n",
        "model2.compile(loss=MeanSquaredError(), optimizer='adam', metrics=[RootMeanSquaredError()])"
      ],
      "metadata": {
        "id": "E7UlkbMSS5w2"
      },
      "execution_count": null,
      "outputs": []
    },
    {
      "cell_type": "code",
      "source": [
        "model2.fit(X_train1,y_train1, validation_data=(X_val1,y_val1), epochs=30, callbacks=[cp2])"
      ],
      "metadata": {
        "colab": {
          "base_uri": "https://localhost:8080/"
        },
        "id": "GrMiSKGbVoko",
        "outputId": "825e65a8-18f2-4b65-9f05-9505ed1089c8"
      },
      "execution_count": null,
      "outputs": [
        {
          "output_type": "stream",
          "name": "stdout",
          "text": [
            "Epoch 1/30\n",
            "229/233 [============================>.] - ETA: 0s - loss: 0.0036 - root_mean_squared_error: 0.0599INFO:tensorflow:Assets written to: model2/assets\n"
          ]
        },
        {
          "output_type": "stream",
          "name": "stderr",
          "text": [
            "INFO:tensorflow:Assets written to: model2/assets\n"
          ]
        },
        {
          "output_type": "stream",
          "name": "stdout",
          "text": [
            "\b\b\b\b\b\b\b\b\b\b\b\b\b\b\b\b\b\b\b\b\b\b\b\b\b\b\b\b\b\b\b\b\b\b\b\b\b\b\b\b\b\b\b\b\b\b\b\b\b\b\b\b\b\b\b\b\b\b\b\b\b\b\b\b\b\b\b\b\b\b\b\b\b\b\b\b\b\b\b\b\b\b\b\b\b\b\b\b\b\b\b\b\b\b\b\b\b\b\b\r233/233 [==============================] - 3s 10ms/step - loss: 0.0036 - root_mean_squared_error: 0.0602 - val_loss: 0.0034 - val_root_mean_squared_error: 0.0587\n",
            "Epoch 2/30\n",
            "227/233 [============================>.] - ETA: 0s - loss: 0.0015 - root_mean_squared_error: 0.0383INFO:tensorflow:Assets written to: model2/assets\n"
          ]
        },
        {
          "output_type": "stream",
          "name": "stderr",
          "text": [
            "INFO:tensorflow:Assets written to: model2/assets\n"
          ]
        },
        {
          "output_type": "stream",
          "name": "stdout",
          "text": [
            "\b\b\b\b\b\b\b\b\b\b\b\b\b\b\b\b\b\b\b\b\b\b\b\b\b\b\b\b\b\b\b\b\b\b\b\b\b\b\b\b\b\b\b\b\b\b\b\b\b\b\b\b\b\b\b\b\b\b\b\b\b\b\b\b\b\b\b\b\b\b\b\b\b\b\b\b\b\b\b\b\b\b\b\b\b\b\b\b\b\b\b\b\b\b\b\b\b\b\b\r233/233 [==============================] - 2s 9ms/step - loss: 0.0015 - root_mean_squared_error: 0.0383 - val_loss: 0.0029 - val_root_mean_squared_error: 0.0535\n",
            "Epoch 3/30\n",
            "226/233 [============================>.] - ETA: 0s - loss: 0.0014 - root_mean_squared_error: 0.0372INFO:tensorflow:Assets written to: model2/assets\n"
          ]
        },
        {
          "output_type": "stream",
          "name": "stderr",
          "text": [
            "INFO:tensorflow:Assets written to: model2/assets\n"
          ]
        },
        {
          "output_type": "stream",
          "name": "stdout",
          "text": [
            "\b\b\b\b\b\b\b\b\b\b\b\b\b\b\b\b\b\b\b\b\b\b\b\b\b\b\b\b\b\b\b\b\b\b\b\b\b\b\b\b\b\b\b\b\b\b\b\b\b\b\b\b\b\b\b\b\b\b\b\b\b\b\b\b\b\b\b\b\b\b\b\b\b\b\b\b\b\b\b\b\b\b\b\b\b\b\b\b\b\b\b\b\b\b\b\b\b\b\b\r233/233 [==============================] - 2s 9ms/step - loss: 0.0014 - root_mean_squared_error: 0.0369 - val_loss: 0.0027 - val_root_mean_squared_error: 0.0520\n",
            "Epoch 4/30\n",
            "227/233 [============================>.] - ETA: 0s - loss: 0.0013 - root_mean_squared_error: 0.0364INFO:tensorflow:Assets written to: model2/assets\n"
          ]
        },
        {
          "output_type": "stream",
          "name": "stderr",
          "text": [
            "INFO:tensorflow:Assets written to: model2/assets\n"
          ]
        },
        {
          "output_type": "stream",
          "name": "stdout",
          "text": [
            "\b\b\b\b\b\b\b\b\b\b\b\b\b\b\b\b\b\b\b\b\b\b\b\b\b\b\b\b\b\b\b\b\b\b\b\b\b\b\b\b\b\b\b\b\b\b\b\b\b\b\b\b\b\b\b\b\b\b\b\b\b\b\b\b\b\b\b\b\b\b\b\b\b\b\b\b\b\b\b\b\b\b\b\b\b\b\b\b\b\b\b\b\b\b\b\b\b\b\b\r233/233 [==============================] - 2s 9ms/step - loss: 0.0013 - root_mean_squared_error: 0.0361 - val_loss: 0.0026 - val_root_mean_squared_error: 0.0508\n",
            "Epoch 5/30\n",
            "228/233 [============================>.] - ETA: 0s - loss: 0.0013 - root_mean_squared_error: 0.0358INFO:tensorflow:Assets written to: model2/assets\n"
          ]
        },
        {
          "output_type": "stream",
          "name": "stderr",
          "text": [
            "INFO:tensorflow:Assets written to: model2/assets\n"
          ]
        },
        {
          "output_type": "stream",
          "name": "stdout",
          "text": [
            "\b\b\b\b\b\b\b\b\b\b\b\b\b\b\b\b\b\b\b\b\b\b\b\b\b\b\b\b\b\b\b\b\b\b\b\b\b\b\b\b\b\b\b\b\b\b\b\b\b\b\b\b\b\b\b\b\b\b\b\b\b\b\b\b\b\b\b\b\b\b\b\b\b\b\b\b\b\b\b\b\b\b\b\b\b\b\b\b\b\b\b\b\b\b\b\b\b\b\b\r233/233 [==============================] - 2s 9ms/step - loss: 0.0013 - root_mean_squared_error: 0.0356 - val_loss: 0.0026 - val_root_mean_squared_error: 0.0507\n",
            "Epoch 6/30\n",
            "230/233 [============================>.] - ETA: 0s - loss: 0.0012 - root_mean_squared_error: 0.0349INFO:tensorflow:Assets written to: model2/assets\n"
          ]
        },
        {
          "output_type": "stream",
          "name": "stderr",
          "text": [
            "INFO:tensorflow:Assets written to: model2/assets\n"
          ]
        },
        {
          "output_type": "stream",
          "name": "stdout",
          "text": [
            "\b\b\b\b\b\b\b\b\b\b\b\b\b\b\b\b\b\b\b\b\b\b\b\b\b\b\b\b\b\b\b\b\b\b\b\b\b\b\b\b\b\b\b\b\b\b\b\b\b\b\b\b\b\b\b\b\b\b\b\b\b\b\b\b\b\b\b\b\b\b\b\b\b\b\b\b\b\b\b\b\b\b\b\b\b\b\b\b\b\b\b\b\b\b\b\b\b\b\b\r233/233 [==============================] - 2s 9ms/step - loss: 0.0012 - root_mean_squared_error: 0.0349 - val_loss: 0.0025 - val_root_mean_squared_error: 0.0501\n",
            "Epoch 7/30\n",
            "233/233 [==============================] - 1s 6ms/step - loss: 0.0012 - root_mean_squared_error: 0.0348 - val_loss: 0.0026 - val_root_mean_squared_error: 0.0511\n",
            "Epoch 8/30\n",
            "233/233 [==============================] - 1s 6ms/step - loss: 0.0012 - root_mean_squared_error: 0.0344 - val_loss: 0.0025 - val_root_mean_squared_error: 0.0501\n",
            "Epoch 9/30\n",
            "233/233 [==============================] - 1s 5ms/step - loss: 0.0012 - root_mean_squared_error: 0.0343 - val_loss: 0.0025 - val_root_mean_squared_error: 0.0503\n",
            "Epoch 10/30\n",
            "232/233 [============================>.] - ETA: 0s - loss: 0.0011 - root_mean_squared_error: 0.0339INFO:tensorflow:Assets written to: model2/assets\n"
          ]
        },
        {
          "output_type": "stream",
          "name": "stderr",
          "text": [
            "INFO:tensorflow:Assets written to: model2/assets\n"
          ]
        },
        {
          "output_type": "stream",
          "name": "stdout",
          "text": [
            "\b\b\b\b\b\b\b\b\b\b\b\b\b\b\b\b\b\b\b\b\b\b\b\b\b\b\b\b\b\b\b\b\b\b\b\b\b\b\b\b\b\b\b\b\b\b\b\b\b\b\b\b\b\b\b\b\b\b\b\b\b\b\b\b\b\b\b\b\b\b\b\b\b\b\b\b\b\b\b\b\b\b\b\b\b\b\b\b\b\b\b\b\b\b\b\b\b\b\b\r233/233 [==============================] - 2s 9ms/step - loss: 0.0011 - root_mean_squared_error: 0.0339 - val_loss: 0.0024 - val_root_mean_squared_error: 0.0494\n",
            "Epoch 11/30\n",
            "233/233 [==============================] - 1s 6ms/step - loss: 0.0011 - root_mean_squared_error: 0.0335 - val_loss: 0.0026 - val_root_mean_squared_error: 0.0513\n",
            "Epoch 12/30\n",
            "233/233 [==============================] - 2s 9ms/step - loss: 0.0011 - root_mean_squared_error: 0.0337 - val_loss: 0.0027 - val_root_mean_squared_error: 0.0524\n",
            "Epoch 13/30\n",
            "233/233 [==============================] - 2s 9ms/step - loss: 0.0011 - root_mean_squared_error: 0.0331 - val_loss: 0.0028 - val_root_mean_squared_error: 0.0525\n",
            "Epoch 14/30\n",
            "233/233 [==============================] - 1s 5ms/step - loss: 0.0011 - root_mean_squared_error: 0.0331 - val_loss: 0.0028 - val_root_mean_squared_error: 0.0531\n",
            "Epoch 15/30\n",
            "233/233 [==============================] - 1s 5ms/step - loss: 0.0010 - root_mean_squared_error: 0.0323 - val_loss: 0.0028 - val_root_mean_squared_error: 0.0525\n",
            "Epoch 16/30\n",
            "233/233 [==============================] - 1s 5ms/step - loss: 0.0010 - root_mean_squared_error: 0.0320 - val_loss: 0.0033 - val_root_mean_squared_error: 0.0571\n",
            "Epoch 17/30\n",
            "233/233 [==============================] - 1s 6ms/step - loss: 9.7567e-04 - root_mean_squared_error: 0.0312 - val_loss: 0.0038 - val_root_mean_squared_error: 0.0615\n",
            "Epoch 18/30\n",
            "233/233 [==============================] - 1s 5ms/step - loss: 9.9734e-04 - root_mean_squared_error: 0.0316 - val_loss: 0.0032 - val_root_mean_squared_error: 0.0568\n",
            "Epoch 19/30\n",
            "233/233 [==============================] - 1s 5ms/step - loss: 9.4778e-04 - root_mean_squared_error: 0.0308 - val_loss: 0.0030 - val_root_mean_squared_error: 0.0551\n",
            "Epoch 20/30\n",
            "233/233 [==============================] - 1s 5ms/step - loss: 9.1803e-04 - root_mean_squared_error: 0.0303 - val_loss: 0.0028 - val_root_mean_squared_error: 0.0529\n",
            "Epoch 21/30\n",
            "233/233 [==============================] - 1s 5ms/step - loss: 9.2979e-04 - root_mean_squared_error: 0.0305 - val_loss: 0.0027 - val_root_mean_squared_error: 0.0520\n",
            "Epoch 22/30\n",
            "233/233 [==============================] - 1s 5ms/step - loss: 8.9765e-04 - root_mean_squared_error: 0.0300 - val_loss: 0.0028 - val_root_mean_squared_error: 0.0533\n",
            "Epoch 23/30\n",
            "233/233 [==============================] - 1s 5ms/step - loss: 9.5165e-04 - root_mean_squared_error: 0.0308 - val_loss: 0.0029 - val_root_mean_squared_error: 0.0537\n",
            "Epoch 24/30\n",
            "233/233 [==============================] - 1s 5ms/step - loss: 9.1453e-04 - root_mean_squared_error: 0.0302 - val_loss: 0.0033 - val_root_mean_squared_error: 0.0577\n",
            "Epoch 25/30\n",
            "233/233 [==============================] - 1s 5ms/step - loss: 8.1452e-04 - root_mean_squared_error: 0.0285 - val_loss: 0.0032 - val_root_mean_squared_error: 0.0570\n",
            "Epoch 26/30\n",
            "233/233 [==============================] - 1s 5ms/step - loss: 7.7914e-04 - root_mean_squared_error: 0.0279 - val_loss: 0.0029 - val_root_mean_squared_error: 0.0540\n",
            "Epoch 27/30\n",
            "233/233 [==============================] - 1s 5ms/step - loss: 8.2238e-04 - root_mean_squared_error: 0.0287 - val_loss: 0.0027 - val_root_mean_squared_error: 0.0522\n",
            "Epoch 28/30\n",
            "229/233 [============================>.] - ETA: 0s - loss: 8.4636e-04 - root_mean_squared_error: 0.0291INFO:tensorflow:Assets written to: model2/assets\n"
          ]
        },
        {
          "output_type": "stream",
          "name": "stderr",
          "text": [
            "INFO:tensorflow:Assets written to: model2/assets\n"
          ]
        },
        {
          "output_type": "stream",
          "name": "stdout",
          "text": [
            "\b\b\b\b\b\b\b\b\b\b\b\b\b\b\b\b\b\b\b\b\b\b\b\b\b\b\b\b\b\b\b\b\b\b\b\b\b\b\b\b\b\b\b\b\b\b\b\b\b\b\b\b\b\b\b\b\b\b\b\b\b\b\b\b\b\b\b\b\b\b\b\b\b\b\b\b\b\b\b\b\b\b\b\b\b\b\b\b\b\b\b\b\b\b\b\b\b\b\b\b\b\b\b\r233/233 [==============================] - 2s 9ms/step - loss: 8.5349e-04 - root_mean_squared_error: 0.0292 - val_loss: 0.0024 - val_root_mean_squared_error: 0.0485\n",
            "Epoch 29/30\n",
            "233/233 [==============================] - 1s 5ms/step - loss: 7.8966e-04 - root_mean_squared_error: 0.0281 - val_loss: 0.0040 - val_root_mean_squared_error: 0.0632\n",
            "Epoch 30/30\n",
            "233/233 [==============================] - 1s 5ms/step - loss: 7.2521e-04 - root_mean_squared_error: 0.0269 - val_loss: 0.0031 - val_root_mean_squared_error: 0.0556\n"
          ]
        },
        {
          "output_type": "execute_result",
          "data": {
            "text/plain": [
              "<keras.callbacks.History at 0x7fdb5cee2490>"
            ]
          },
          "metadata": {},
          "execution_count": 31
        }
      ]
    },
    {
      "cell_type": "code",
      "source": [
        "plot_predictions1(model2,X_test1,y_test1)"
      ],
      "metadata": {
        "colab": {
          "base_uri": "https://localhost:8080/",
          "height": 710
        },
        "id": "XyaA8rnZ2UQC",
        "outputId": "309740b5-3f2a-4d98-939d-a7f0adc422b6"
      },
      "execution_count": null,
      "outputs": [
        {
          "output_type": "execute_result",
          "data": {
            "text/plain": [
              "(      predictions   Actuals\n",
              " 0        0.027173  0.017457\n",
              " 1        0.025197  0.017099\n",
              " 2        0.025462  0.016920\n",
              " 3        0.024789  0.016473\n",
              " 4        0.023109  0.016204\n",
              " ...           ...       ...\n",
              " 1109     0.023345  0.012981\n",
              " 1110     0.025086  0.012444\n",
              " 1111     0.034174  0.012175\n",
              " 1112     0.022868  0.011728\n",
              " 1113     0.027512  0.011728\n",
              " \n",
              " [1114 rows x 2 columns], 0.0011350136589870778)"
            ]
          },
          "metadata": {},
          "execution_count": 32
        },
        {
          "output_type": "display_data",
          "data": {
            "text/plain": [
              "<Figure size 1728x576 with 1 Axes>"
            ],
            "image/png": "[encoded data removed]"
          },
          "metadata": {
            "needs_background": "light"
          }
        }
      ]
    },
    {
      "cell_type": "code",
      "source": [
        "model3=Sequential()\n",
        "model3.add(InputLayer((X_train1.shape[1],X_train1.shape[2])))\n",
        "model3.add(GRU(128))\n",
        "model3.add(Dense(128,'relu'))\n",
        "model3.add(Dense(128,'relu'))\n",
        "model3.add(Dense(1,'linear'))\n",
        "model3.summary()"
      ],
      "metadata": {
        "colab": {
          "base_uri": "https://localhost:8080/"
        },
        "id": "whFXCwf6WL5W",
        "outputId": "4015dc1a-298a-45cc-c3e0-b142d357ba46"
      },
      "execution_count": null,
      "outputs": [
        {
          "output_type": "stream",
          "name": "stdout",
          "text": [
            "Model: \"sequential_2\"\n",
            "_________________________________________________________________\n",
            " Layer (type)                Output Shape              Param #   \n",
            "=================================================================\n",
            " gru (GRU)                   (None, 128)               52992     \n",
            "                                                                 \n",
            " dense_6 (Dense)             (None, 128)               16512     \n",
            "                                                                 \n",
            " dense_7 (Dense)             (None, 128)               16512     \n",
            "                                                                 \n",
            " dense_8 (Dense)             (None, 1)                 129       \n",
            "                                                                 \n",
            "=================================================================\n",
            "Total params: 86,145\n",
            "Trainable params: 86,145\n",
            "Non-trainable params: 0\n",
            "_________________________________________________________________\n"
          ]
        }
      ]
    },
    {
      "cell_type": "code",
      "source": [
        "cp3=ModelCheckpoint('model3/', save_best_only=True)\n",
        "model3.compile(loss=MeanSquaredError(), optimizer='adam', metrics=[RootMeanSquaredError()])"
      ],
      "metadata": {
        "id": "RusAPY8zXKOx"
      },
      "execution_count": null,
      "outputs": []
    },
    {
      "cell_type": "code",
      "source": [
        "model3.fit(X_train1,y_train1, validation_data=(X_val1,y_val1), epochs=30, callbacks=[cp3])"
      ],
      "metadata": {
        "colab": {
          "base_uri": "https://localhost:8080/"
        },
        "id": "4OHltBtZXPiT",
        "outputId": "0a6cc04d-9fd5-407b-bdf0-23723e3b9147"
      },
      "execution_count": null,
      "outputs": [
        {
          "output_type": "stream",
          "name": "stdout",
          "text": [
            "Epoch 1/30\n",
            "233/233 [==============================] - ETA: 0s - loss: 0.0015 - root_mean_squared_error: 0.0392"
          ]
        },
        {
          "output_type": "stream",
          "name": "stderr",
          "text": [
            "WARNING:absl:Found untraced functions such as gru_cell_layer_call_fn, gru_cell_layer_call_and_return_conditional_losses while saving (showing 2 of 2). These functions will not be directly callable after loading.\n"
          ]
        },
        {
          "output_type": "stream",
          "name": "stdout",
          "text": [
            "INFO:tensorflow:Assets written to: model3/assets\n"
          ]
        },
        {
          "output_type": "stream",
          "name": "stderr",
          "text": [
            "INFO:tensorflow:Assets written to: model3/assets\n",
            "WARNING:absl:<keras.layers.recurrent.GRUCell object at 0x7fdb59f9c410> has the same name 'GRUCell' as a built-in Keras object. Consider renaming <class 'keras.layers.recurrent.GRUCell'> to avoid naming conflicts when loading with `tf.keras.models.load_model`. If renaming is not possible, pass the object in the `custom_objects` parameter of the load function.\n"
          ]
        },
        {
          "output_type": "stream",
          "name": "stdout",
          "text": [
            "\b\b\b\b\b\b\b\b\b\b\b\b\b\b\b\b\b\b\b\b\b\b\b\b\b\b\b\b\b\b\b\b\b\b\b\b\b\b\b\b\b\b\b\b\b\b\b\b\b\b\b\b\b\b\b\b\b\b\b\b\b\b\b\b\b\b\b\b\b\b\b\b\b\b\b\b\b\b\b\b\b\b\b\b\b\b\b\b\b\b\b\b\b\b\b\b\b\b\b\r233/233 [==============================] - 11s 34ms/step - loss: 0.0015 - root_mean_squared_error: 0.0392 - val_loss: 0.0026 - val_root_mean_squared_error: 0.0511\n",
            "Epoch 2/30\n",
            "231/233 [============================>.] - ETA: 0s - loss: 0.0013 - root_mean_squared_error: 0.0361"
          ]
        },
        {
          "output_type": "stream",
          "name": "stderr",
          "text": [
            "WARNING:absl:Found untraced functions such as gru_cell_layer_call_fn, gru_cell_layer_call_and_return_conditional_losses while saving (showing 2 of 2). These functions will not be directly callable after loading.\n"
          ]
        },
        {
          "output_type": "stream",
          "name": "stdout",
          "text": [
            "INFO:tensorflow:Assets written to: model3/assets\n"
          ]
        },
        {
          "output_type": "stream",
          "name": "stderr",
          "text": [
            "INFO:tensorflow:Assets written to: model3/assets\n",
            "WARNING:absl:<keras.layers.recurrent.GRUCell object at 0x7fdb59f9c410> has the same name 'GRUCell' as a built-in Keras object. Consider renaming <class 'keras.layers.recurrent.GRUCell'> to avoid naming conflicts when loading with `tf.keras.models.load_model`. If renaming is not possible, pass the object in the `custom_objects` parameter of the load function.\n"
          ]
        },
        {
          "output_type": "stream",
          "name": "stdout",
          "text": [
            "\b\b\b\b\b\b\b\b\b\b\b\b\b\b\b\b\b\b\b\b\b\b\b\b\b\b\b\b\b\b\b\b\b\b\b\b\b\b\b\b\b\b\b\b\b\b\b\b\b\b\b\b\b\b\b\b\b\b\b\b\b\b\b\b\b\b\b\b\b\b\b\b\b\b\b\b\b\b\b\b\b\b\b\b\b\b\b\b\b\b\b\b\b\b\b\b\b\b\b\r233/233 [==============================] - 8s 34ms/step - loss: 0.0013 - root_mean_squared_error: 0.0360 - val_loss: 0.0024 - val_root_mean_squared_error: 0.0492\n",
            "Epoch 3/30\n",
            "230/233 [============================>.] - ETA: 0s - loss: 0.0013 - root_mean_squared_error: 0.0356"
          ]
        },
        {
          "output_type": "stream",
          "name": "stderr",
          "text": [
            "WARNING:absl:Found untraced functions such as gru_cell_layer_call_fn, gru_cell_layer_call_and_return_conditional_losses while saving (showing 2 of 2). These functions will not be directly callable after loading.\n"
          ]
        },
        {
          "output_type": "stream",
          "name": "stdout",
          "text": [
            "INFO:tensorflow:Assets written to: model3/assets\n"
          ]
        },
        {
          "output_type": "stream",
          "name": "stderr",
          "text": [
            "INFO:tensorflow:Assets written to: model3/assets\n",
            "WARNING:absl:<keras.layers.recurrent.GRUCell object at 0x7fdb59f9c410> has the same name 'GRUCell' as a built-in Keras object. Consider renaming <class 'keras.layers.recurrent.GRUCell'> to avoid naming conflicts when loading with `tf.keras.models.load_model`. If renaming is not possible, pass the object in the `custom_objects` parameter of the load function.\n"
          ]
        },
        {
          "output_type": "stream",
          "name": "stdout",
          "text": [
            "\b\b\b\b\b\b\b\b\b\b\b\b\b\b\b\b\b\b\b\b\b\b\b\b\b\b\b\b\b\b\b\b\b\b\b\b\b\b\b\b\b\b\b\b\b\b\b\b\b\b\b\b\b\b\b\b\b\b\b\b\b\b\b\b\b\b\b\b\b\b\b\b\b\b\b\b\b\b\b\b\b\b\b\b\b\b\b\b\b\b\b\b\b\b\b\b\b\b\b\r233/233 [==============================] - 8s 32ms/step - loss: 0.0013 - root_mean_squared_error: 0.0355 - val_loss: 0.0024 - val_root_mean_squared_error: 0.0485\n",
            "Epoch 4/30\n",
            "233/233 [==============================] - 3s 15ms/step - loss: 0.0013 - root_mean_squared_error: 0.0354 - val_loss: 0.0025 - val_root_mean_squared_error: 0.0498\n",
            "Epoch 5/30\n",
            "233/233 [==============================] - 3s 15ms/step - loss: 0.0012 - root_mean_squared_error: 0.0349 - val_loss: 0.0027 - val_root_mean_squared_error: 0.0523\n",
            "Epoch 6/30\n",
            "233/233 [==============================] - 3s 15ms/step - loss: 0.0012 - root_mean_squared_error: 0.0352 - val_loss: 0.0025 - val_root_mean_squared_error: 0.0496\n",
            "Epoch 7/30\n",
            "233/233 [==============================] - 4s 15ms/step - loss: 0.0012 - root_mean_squared_error: 0.0345 - val_loss: 0.0026 - val_root_mean_squared_error: 0.0512\n",
            "Epoch 8/30\n",
            "233/233 [==============================] - 3s 15ms/step - loss: 0.0012 - root_mean_squared_error: 0.0341 - val_loss: 0.0026 - val_root_mean_squared_error: 0.0506\n",
            "Epoch 9/30\n",
            "233/233 [==============================] - 3s 15ms/step - loss: 0.0012 - root_mean_squared_error: 0.0343 - val_loss: 0.0025 - val_root_mean_squared_error: 0.0503\n",
            "Epoch 10/30\n",
            "231/233 [============================>.] - ETA: 0s - loss: 0.0011 - root_mean_squared_error: 0.0338"
          ]
        },
        {
          "output_type": "stream",
          "name": "stderr",
          "text": [
            "WARNING:absl:Found untraced functions such as gru_cell_layer_call_fn, gru_cell_layer_call_and_return_conditional_losses while saving (showing 2 of 2). These functions will not be directly callable after loading.\n"
          ]
        },
        {
          "output_type": "stream",
          "name": "stdout",
          "text": [
            "INFO:tensorflow:Assets written to: model3/assets\n"
          ]
        },
        {
          "output_type": "stream",
          "name": "stderr",
          "text": [
            "INFO:tensorflow:Assets written to: model3/assets\n",
            "WARNING:absl:<keras.layers.recurrent.GRUCell object at 0x7fdb59f9c410> has the same name 'GRUCell' as a built-in Keras object. Consider renaming <class 'keras.layers.recurrent.GRUCell'> to avoid naming conflicts when loading with `tf.keras.models.load_model`. If renaming is not possible, pass the object in the `custom_objects` parameter of the load function.\n"
          ]
        },
        {
          "output_type": "stream",
          "name": "stdout",
          "text": [
            "\b\b\b\b\b\b\b\b\b\b\b\b\b\b\b\b\b\b\b\b\b\b\b\b\b\b\b\b\b\b\b\b\b\b\b\b\b\b\b\b\b\b\b\b\b\b\b\b\b\b\b\b\b\b\b\b\b\b\b\b\b\b\b\b\b\b\b\b\b\b\b\b\b\b\b\b\b\b\b\b\b\b\b\b\b\b\b\b\b\b\b\b\b\b\b\b\b\b\b\r233/233 [==============================] - 8s 36ms/step - loss: 0.0011 - root_mean_squared_error: 0.0337 - val_loss: 0.0023 - val_root_mean_squared_error: 0.0475\n",
            "Epoch 11/30\n",
            "233/233 [==============================] - 3s 14ms/step - loss: 0.0011 - root_mean_squared_error: 0.0338 - val_loss: 0.0027 - val_root_mean_squared_error: 0.0521\n",
            "Epoch 12/30\n",
            "233/233 [==============================] - 3s 14ms/step - loss: 0.0011 - root_mean_squared_error: 0.0338 - val_loss: 0.0025 - val_root_mean_squared_error: 0.0497\n",
            "Epoch 13/30\n",
            "233/233 [==============================] - 3s 14ms/step - loss: 0.0012 - root_mean_squared_error: 0.0340 - val_loss: 0.0024 - val_root_mean_squared_error: 0.0491\n",
            "Epoch 14/30\n",
            "233/233 [==============================] - 3s 15ms/step - loss: 0.0012 - root_mean_squared_error: 0.0339 - val_loss: 0.0026 - val_root_mean_squared_error: 0.0506\n",
            "Epoch 15/30\n",
            "233/233 [==============================] - 3s 15ms/step - loss: 0.0012 - root_mean_squared_error: 0.0339 - val_loss: 0.0029 - val_root_mean_squared_error: 0.0538\n",
            "Epoch 16/30\n",
            "233/233 [==============================] - 3s 15ms/step - loss: 0.0012 - root_mean_squared_error: 0.0339 - val_loss: 0.0026 - val_root_mean_squared_error: 0.0508\n",
            "Epoch 17/30\n",
            "233/233 [==============================] - 3s 14ms/step - loss: 0.0011 - root_mean_squared_error: 0.0335 - val_loss: 0.0030 - val_root_mean_squared_error: 0.0549\n",
            "Epoch 18/30\n",
            "233/233 [==============================] - 3s 14ms/step - loss: 0.0011 - root_mean_squared_error: 0.0330 - val_loss: 0.0030 - val_root_mean_squared_error: 0.0546\n",
            "Epoch 19/30\n",
            "233/233 [==============================] - 3s 14ms/step - loss: 0.0011 - root_mean_squared_error: 0.0334 - val_loss: 0.0027 - val_root_mean_squared_error: 0.0520\n",
            "Epoch 20/30\n",
            "233/233 [==============================] - 3s 14ms/step - loss: 0.0011 - root_mean_squared_error: 0.0333 - val_loss: 0.0025 - val_root_mean_squared_error: 0.0504\n",
            "Epoch 21/30\n",
            "233/233 [==============================] - 3s 15ms/step - loss: 0.0011 - root_mean_squared_error: 0.0334 - val_loss: 0.0027 - val_root_mean_squared_error: 0.0521\n",
            "Epoch 22/30\n",
            "233/233 [==============================] - 3s 14ms/step - loss: 0.0011 - root_mean_squared_error: 0.0325 - val_loss: 0.0027 - val_root_mean_squared_error: 0.0523\n",
            "Epoch 23/30\n",
            "233/233 [==============================] - 3s 14ms/step - loss: 0.0011 - root_mean_squared_error: 0.0331 - val_loss: 0.0026 - val_root_mean_squared_error: 0.0511\n",
            "Epoch 24/30\n",
            "233/233 [==============================] - 3s 15ms/step - loss: 0.0011 - root_mean_squared_error: 0.0332 - val_loss: 0.0027 - val_root_mean_squared_error: 0.0522\n",
            "Epoch 25/30\n",
            "233/233 [==============================] - 3s 14ms/step - loss: 0.0011 - root_mean_squared_error: 0.0337 - val_loss: 0.0028 - val_root_mean_squared_error: 0.0525\n",
            "Epoch 26/30\n",
            "233/233 [==============================] - 3s 15ms/step - loss: 0.0011 - root_mean_squared_error: 0.0327 - val_loss: 0.0028 - val_root_mean_squared_error: 0.0527\n",
            "Epoch 27/30\n",
            "233/233 [==============================] - 3s 14ms/step - loss: 0.0011 - root_mean_squared_error: 0.0328 - val_loss: 0.0026 - val_root_mean_squared_error: 0.0505\n",
            "Epoch 28/30\n",
            "233/233 [==============================] - 3s 14ms/step - loss: 0.0010 - root_mean_squared_error: 0.0319 - val_loss: 0.0026 - val_root_mean_squared_error: 0.0508\n",
            "Epoch 29/30\n",
            "233/233 [==============================] - 3s 15ms/step - loss: 9.9351e-04 - root_mean_squared_error: 0.0315 - val_loss: 0.0024 - val_root_mean_squared_error: 0.0494\n",
            "Epoch 30/30\n",
            "233/233 [==============================] - 3s 14ms/step - loss: 0.0010 - root_mean_squared_error: 0.0316 - val_loss: 0.0027 - val_root_mean_squared_error: 0.0519\n"
          ]
        },
        {
          "output_type": "execute_result",
          "data": {
            "text/plain": [
              "<keras.callbacks.History at 0x7fdb5ac10fd0>"
            ]
          },
          "metadata": {},
          "execution_count": 35
        }
      ]
    },
    {
      "cell_type": "code",
      "source": [
        "plot_predictions1(model3,X_test1,y_test1)"
      ],
      "metadata": {
        "colab": {
          "base_uri": "https://localhost:8080/",
          "height": 762
        },
        "id": "VwdaybHP2YFI",
        "outputId": "c74284a0-4f39-4e22-ebce-89c8e796d59c"
      },
      "execution_count": null,
      "outputs": [
        {
          "output_type": "execute_result",
          "data": {
            "text/plain": [
              "(      predictions   Actuals\n",
              " 0        0.017723  0.017457\n",
              " 1        0.019252  0.017099\n",
              " 2        0.017966  0.016920\n",
              " 3        0.016399  0.016473\n",
              " 4        0.014090  0.016204\n",
              " ...           ...       ...\n",
              " 1109     0.014820  0.012981\n",
              " 1110     0.015010  0.012444\n",
              " 1111     0.014971  0.012175\n",
              " 1112     0.015698  0.011728\n",
              " 1113     0.015976  0.011728\n",
              " \n",
              " [1114 rows x 2 columns], 0.000849166783282865)"
            ]
          },
          "metadata": {},
          "execution_count": 36
        },
        {
          "output_type": "display_data",
          "data": {
            "text/plain": [
              "<Figure size 1728x576 with 1 Axes>"
            ],
            "image/png": "[encoded data removed]"
          },
          "metadata": {
            "needs_background": "light"
          }
        }
      ]
    },
    {
      "cell_type": "code",
      "source": [
        "model4=Sequential()\n",
        "model4.add(InputLayer((X_train1.shape[1],X_train1.shape[2])))\n",
        "model4.add(Conv1D(128, kernel_size=2))\n",
        "model4.add(MaxPooling1D(pool_size=2))\n",
        "model4.add(LSTM(128))\n",
        "model4.add(Dense(128,'relu'))\n",
        "model4.add(Dense(128,'relu'))\n",
        "model4.add(Dense(1,'linear'))\n",
        "model4.summary()\n"
      ],
      "metadata": {
        "colab": {
          "base_uri": "https://localhost:8080/"
        },
        "id": "DIwfY7n14GpI",
        "outputId": "37339094-4b22-443b-d8d3-9f4f199a81f7"
      },
      "execution_count": null,
      "outputs": [
        {
          "output_type": "stream",
          "name": "stdout",
          "text": [
            "Model: \"sequential_3\"\n",
            "_________________________________________________________________\n",
            " Layer (type)                Output Shape              Param #   \n",
            "=================================================================\n",
            " conv1d_1 (Conv1D)           (None, 11, 128)           2176      \n",
            "                                                                 \n",
            " max_pooling1d (MaxPooling1D  (None, 5, 128)           0         \n",
            " )                                                               \n",
            "                                                                 \n",
            " lstm_1 (LSTM)               (None, 128)               131584    \n",
            "                                                                 \n",
            " dense_9 (Dense)             (None, 128)               16512     \n",
            "                                                                 \n",
            " dense_10 (Dense)            (None, 128)               16512     \n",
            "                                                                 \n",
            " dense_11 (Dense)            (None, 1)                 129       \n",
            "                                                                 \n",
            "=================================================================\n",
            "Total params: 166,913\n",
            "Trainable params: 166,913\n",
            "Non-trainable params: 0\n",
            "_________________________________________________________________\n"
          ]
        }
      ]
    },
    {
      "cell_type": "code",
      "source": [
        "cp4=ModelCheckpoint('model4/', save_best_only=True)\n",
        "model4.compile(loss=MeanSquaredError(), optimizer='adam', metrics=[RootMeanSquaredError()])"
      ],
      "metadata": {
        "id": "nKTfMzXI5F4s"
      },
      "execution_count": null,
      "outputs": []
    },
    {
      "cell_type": "code",
      "source": [
        "model4.fit(X_train1,y_train1, validation_data=(X_val1,y_val1), epochs=30, callbacks=[cp4])"
      ],
      "metadata": {
        "colab": {
          "base_uri": "https://localhost:8080/"
        },
        "id": "Qa_mwHez5P8y",
        "outputId": "855d500e-49c1-45f8-b90a-44eae57bcac9"
      },
      "execution_count": null,
      "outputs": [
        {
          "output_type": "stream",
          "name": "stdout",
          "text": [
            "Epoch 1/30\n",
            "231/233 [============================>.] - ETA: 0s - loss: 0.0017 - root_mean_squared_error: 0.0408"
          ]
        },
        {
          "output_type": "stream",
          "name": "stderr",
          "text": [
            "WARNING:absl:Found untraced functions such as lstm_cell_2_layer_call_fn, lstm_cell_2_layer_call_and_return_conditional_losses while saving (showing 2 of 2). These functions will not be directly callable after loading.\n"
          ]
        },
        {
          "output_type": "stream",
          "name": "stdout",
          "text": [
            "INFO:tensorflow:Assets written to: model4/assets\n"
          ]
        },
        {
          "output_type": "stream",
          "name": "stderr",
          "text": [
            "INFO:tensorflow:Assets written to: model4/assets\n",
            "WARNING:absl:<keras.layers.recurrent.LSTMCell object at 0x7fdb5d6d7090> has the same name 'LSTMCell' as a built-in Keras object. Consider renaming <class 'keras.layers.recurrent.LSTMCell'> to avoid naming conflicts when loading with `tf.keras.models.load_model`. If renaming is not possible, pass the object in the `custom_objects` parameter of the load function.\n"
          ]
        },
        {
          "output_type": "stream",
          "name": "stdout",
          "text": [
            "\b\b\b\b\b\b\b\b\b\b\b\b\b\b\b\b\b\b\b\b\b\b\b\b\b\b\b\b\b\b\b\b\b\b\b\b\b\b\b\b\b\b\b\b\b\b\b\b\b\b\b\b\b\b\b\b\b\b\b\b\b\b\b\b\b\b\b\b\b\b\b\b\b\b\b\b\b\b\b\b\b\b\b\b\b\b\b\b\b\b\b\b\b\b\b\b\b\b\b\r233/233 [==============================] - 11s 39ms/step - loss: 0.0017 - root_mean_squared_error: 0.0408 - val_loss: 0.0036 - val_root_mean_squared_error: 0.0596\n",
            "Epoch 2/30\n",
            "232/233 [============================>.] - ETA: 0s - loss: 0.0014 - root_mean_squared_error: 0.0379"
          ]
        },
        {
          "output_type": "stream",
          "name": "stderr",
          "text": [
            "WARNING:absl:Found untraced functions such as lstm_cell_2_layer_call_fn, lstm_cell_2_layer_call_and_return_conditional_losses while saving (showing 2 of 2). These functions will not be directly callable after loading.\n"
          ]
        },
        {
          "output_type": "stream",
          "name": "stdout",
          "text": [
            "INFO:tensorflow:Assets written to: model4/assets\n"
          ]
        },
        {
          "output_type": "stream",
          "name": "stderr",
          "text": [
            "INFO:tensorflow:Assets written to: model4/assets\n",
            "WARNING:absl:<keras.layers.recurrent.LSTMCell object at 0x7fdb5d6d7090> has the same name 'LSTMCell' as a built-in Keras object. Consider renaming <class 'keras.layers.recurrent.LSTMCell'> to avoid naming conflicts when loading with `tf.keras.models.load_model`. If renaming is not possible, pass the object in the `custom_objects` parameter of the load function.\n"
          ]
        },
        {
          "output_type": "stream",
          "name": "stdout",
          "text": [
            "\b\b\b\b\b\b\b\b\b\b\b\b\b\b\b\b\b\b\b\b\b\b\b\b\b\b\b\b\b\b\b\b\b\b\b\b\b\b\b\b\b\b\b\b\b\b\b\b\b\b\b\b\b\b\b\b\b\b\b\b\b\b\b\b\b\b\b\b\b\b\b\b\b\b\b\b\b\b\b\b\b\b\b\b\b\b\b\b\b\b\b\b\b\b\b\b\b\b\b\r233/233 [==============================] - 8s 34ms/step - loss: 0.0015 - root_mean_squared_error: 0.0387 - val_loss: 0.0033 - val_root_mean_squared_error: 0.0578\n",
            "Epoch 3/30\n",
            "231/233 [============================>.] - ETA: 0s - loss: 0.0015 - root_mean_squared_error: 0.0386"
          ]
        },
        {
          "output_type": "stream",
          "name": "stderr",
          "text": [
            "WARNING:absl:Found untraced functions such as lstm_cell_2_layer_call_fn, lstm_cell_2_layer_call_and_return_conditional_losses while saving (showing 2 of 2). These functions will not be directly callable after loading.\n"
          ]
        },
        {
          "output_type": "stream",
          "name": "stdout",
          "text": [
            "INFO:tensorflow:Assets written to: model4/assets\n"
          ]
        },
        {
          "output_type": "stream",
          "name": "stderr",
          "text": [
            "INFO:tensorflow:Assets written to: model4/assets\n",
            "WARNING:absl:<keras.layers.recurrent.LSTMCell object at 0x7fdb5d6d7090> has the same name 'LSTMCell' as a built-in Keras object. Consider renaming <class 'keras.layers.recurrent.LSTMCell'> to avoid naming conflicts when loading with `tf.keras.models.load_model`. If renaming is not possible, pass the object in the `custom_objects` parameter of the load function.\n"
          ]
        },
        {
          "output_type": "stream",
          "name": "stdout",
          "text": [
            "\b\b\b\b\b\b\b\b\b\b\b\b\b\b\b\b\b\b\b\b\b\b\b\b\b\b\b\b\b\b\b\b\b\b\b\b\b\b\b\b\b\b\b\b\b\b\b\b\b\b\b\b\b\b\b\b\b\b\b\b\b\b\b\b\b\b\b\b\b\b\b\b\b\b\b\b\b\b\b\b\b\b\b\b\b\b\b\b\b\b\b\b\b\b\b\b\b\b\b\r233/233 [==============================] - 8s 33ms/step - loss: 0.0015 - root_mean_squared_error: 0.0385 - val_loss: 0.0031 - val_root_mean_squared_error: 0.0561\n",
            "Epoch 4/30\n",
            "233/233 [==============================] - ETA: 0s - loss: 0.0014 - root_mean_squared_error: 0.0379"
          ]
        },
        {
          "output_type": "stream",
          "name": "stderr",
          "text": [
            "WARNING:absl:Found untraced functions such as lstm_cell_2_layer_call_fn, lstm_cell_2_layer_call_and_return_conditional_losses while saving (showing 2 of 2). These functions will not be directly callable after loading.\n"
          ]
        },
        {
          "output_type": "stream",
          "name": "stdout",
          "text": [
            "INFO:tensorflow:Assets written to: model4/assets\n"
          ]
        },
        {
          "output_type": "stream",
          "name": "stderr",
          "text": [
            "INFO:tensorflow:Assets written to: model4/assets\n",
            "WARNING:absl:<keras.layers.recurrent.LSTMCell object at 0x7fdb5d6d7090> has the same name 'LSTMCell' as a built-in Keras object. Consider renaming <class 'keras.layers.recurrent.LSTMCell'> to avoid naming conflicts when loading with `tf.keras.models.load_model`. If renaming is not possible, pass the object in the `custom_objects` parameter of the load function.\n"
          ]
        },
        {
          "output_type": "stream",
          "name": "stdout",
          "text": [
            "\b\b\b\b\b\b\b\b\b\b\b\b\b\b\b\b\b\b\b\b\b\b\b\b\b\b\b\b\b\b\b\b\b\b\b\b\b\b\b\b\b\b\b\b\b\b\b\b\b\b\b\b\b\b\b\b\b\b\b\b\b\b\b\b\b\b\b\b\b\b\b\b\b\b\b\b\b\b\b\b\b\b\b\b\b\b\b\b\b\b\b\b\b\b\b\b\b\b\b\r233/233 [==============================] - 9s 37ms/step - loss: 0.0014 - root_mean_squared_error: 0.0379 - val_loss: 0.0031 - val_root_mean_squared_error: 0.0554\n",
            "Epoch 5/30\n",
            "233/233 [==============================] - 3s 13ms/step - loss: 0.0014 - root_mean_squared_error: 0.0376 - val_loss: 0.0032 - val_root_mean_squared_error: 0.0564\n",
            "Epoch 6/30\n",
            "229/233 [============================>.] - ETA: 0s - loss: 0.0014 - root_mean_squared_error: 0.0373"
          ]
        },
        {
          "output_type": "stream",
          "name": "stderr",
          "text": [
            "WARNING:absl:Found untraced functions such as lstm_cell_2_layer_call_fn, lstm_cell_2_layer_call_and_return_conditional_losses while saving (showing 2 of 2). These functions will not be directly callable after loading.\n"
          ]
        },
        {
          "output_type": "stream",
          "name": "stdout",
          "text": [
            "INFO:tensorflow:Assets written to: model4/assets\n"
          ]
        },
        {
          "output_type": "stream",
          "name": "stderr",
          "text": [
            "INFO:tensorflow:Assets written to: model4/assets\n",
            "WARNING:absl:<keras.layers.recurrent.LSTMCell object at 0x7fdb5d6d7090> has the same name 'LSTMCell' as a built-in Keras object. Consider renaming <class 'keras.layers.recurrent.LSTMCell'> to avoid naming conflicts when loading with `tf.keras.models.load_model`. If renaming is not possible, pass the object in the `custom_objects` parameter of the load function.\n"
          ]
        },
        {
          "output_type": "stream",
          "name": "stdout",
          "text": [
            "\b\b\b\b\b\b\b\b\b\b\b\b\b\b\b\b\b\b\b\b\b\b\b\b\b\b\b\b\b\b\b\b\b\b\b\b\b\b\b\b\b\b\b\b\b\b\b\b\b\b\b\b\b\b\b\b\b\b\b\b\b\b\b\b\b\b\b\b\b\b\b\b\b\b\b\b\b\b\b\b\b\b\b\b\b\b\b\b\b\b\b\b\b\b\b\b\b\b\b\r233/233 [==============================] - 8s 36ms/step - loss: 0.0014 - root_mean_squared_error: 0.0376 - val_loss: 0.0031 - val_root_mean_squared_error: 0.0553\n",
            "Epoch 7/30\n",
            "233/233 [==============================] - 3s 13ms/step - loss: 0.0014 - root_mean_squared_error: 0.0379 - val_loss: 0.0031 - val_root_mean_squared_error: 0.0558\n",
            "Epoch 8/30\n",
            "230/233 [============================>.] - ETA: 0s - loss: 0.0014 - root_mean_squared_error: 0.0375"
          ]
        },
        {
          "output_type": "stream",
          "name": "stderr",
          "text": [
            "WARNING:absl:Found untraced functions such as lstm_cell_2_layer_call_fn, lstm_cell_2_layer_call_and_return_conditional_losses while saving (showing 2 of 2). These functions will not be directly callable after loading.\n"
          ]
        },
        {
          "output_type": "stream",
          "name": "stdout",
          "text": [
            "INFO:tensorflow:Assets written to: model4/assets\n"
          ]
        },
        {
          "output_type": "stream",
          "name": "stderr",
          "text": [
            "INFO:tensorflow:Assets written to: model4/assets\n",
            "WARNING:absl:<keras.layers.recurrent.LSTMCell object at 0x7fdb5d6d7090> has the same name 'LSTMCell' as a built-in Keras object. Consider renaming <class 'keras.layers.recurrent.LSTMCell'> to avoid naming conflicts when loading with `tf.keras.models.load_model`. If renaming is not possible, pass the object in the `custom_objects` parameter of the load function.\n"
          ]
        },
        {
          "output_type": "stream",
          "name": "stdout",
          "text": [
            "\b\b\b\b\b\b\b\b\b\b\b\b\b\b\b\b\b\b\b\b\b\b\b\b\b\b\b\b\b\b\b\b\b\b\b\b\b\b\b\b\b\b\b\b\b\b\b\b\b\b\b\b\b\b\b\b\b\b\b\b\b\b\b\b\b\b\b\b\b\b\b\b\b\b\b\b\b\b\b\b\b\b\b\b\b\b\b\b\b\b\b\b\b\b\b\b\b\b\b\r233/233 [==============================] - 8s 34ms/step - loss: 0.0014 - root_mean_squared_error: 0.0375 - val_loss: 0.0030 - val_root_mean_squared_error: 0.0550\n",
            "Epoch 9/30\n",
            "233/233 [==============================] - 3s 13ms/step - loss: 0.0014 - root_mean_squared_error: 0.0377 - val_loss: 0.0031 - val_root_mean_squared_error: 0.0555\n",
            "Epoch 10/30\n",
            "233/233 [==============================] - 3s 13ms/step - loss: 0.0014 - root_mean_squared_error: 0.0374 - val_loss: 0.0031 - val_root_mean_squared_error: 0.0558\n",
            "Epoch 11/30\n",
            "233/233 [==============================] - 3s 13ms/step - loss: 0.0014 - root_mean_squared_error: 0.0377 - val_loss: 0.0031 - val_root_mean_squared_error: 0.0555\n",
            "Epoch 12/30\n",
            "233/233 [==============================] - 3s 13ms/step - loss: 0.0014 - root_mean_squared_error: 0.0375 - val_loss: 0.0031 - val_root_mean_squared_error: 0.0558\n",
            "Epoch 13/30\n",
            "233/233 [==============================] - 3s 13ms/step - loss: 0.0014 - root_mean_squared_error: 0.0373 - val_loss: 0.0031 - val_root_mean_squared_error: 0.0559\n",
            "Epoch 14/30\n",
            "233/233 [==============================] - 3s 13ms/step - loss: 0.0014 - root_mean_squared_error: 0.0373 - val_loss: 0.0031 - val_root_mean_squared_error: 0.0553\n",
            "Epoch 15/30\n",
            "229/233 [============================>.] - ETA: 0s - loss: 0.0014 - root_mean_squared_error: 0.0371"
          ]
        },
        {
          "output_type": "stream",
          "name": "stderr",
          "text": [
            "WARNING:absl:Found untraced functions such as lstm_cell_2_layer_call_fn, lstm_cell_2_layer_call_and_return_conditional_losses while saving (showing 2 of 2). These functions will not be directly callable after loading.\n"
          ]
        },
        {
          "output_type": "stream",
          "name": "stdout",
          "text": [
            "INFO:tensorflow:Assets written to: model4/assets\n"
          ]
        },
        {
          "output_type": "stream",
          "name": "stderr",
          "text": [
            "INFO:tensorflow:Assets written to: model4/assets\n",
            "WARNING:absl:<keras.layers.recurrent.LSTMCell object at 0x7fdb5d6d7090> has the same name 'LSTMCell' as a built-in Keras object. Consider renaming <class 'keras.layers.recurrent.LSTMCell'> to avoid naming conflicts when loading with `tf.keras.models.load_model`. If renaming is not possible, pass the object in the `custom_objects` parameter of the load function.\n"
          ]
        },
        {
          "output_type": "stream",
          "name": "stdout",
          "text": [
            "\b\b\b\b\b\b\b\b\b\b\b\b\b\b\b\b\b\b\b\b\b\b\b\b\b\b\b\b\b\b\b\b\b\b\b\b\b\b\b\b\b\b\b\b\b\b\b\b\b\b\b\b\b\b\b\b\b\b\b\b\b\b\b\b\b\b\b\b\b\b\b\b\b\b\b\b\b\b\b\b\b\b\b\b\b\b\b\b\b\b\b\b\b\b\b\b\b\b\b\r233/233 [==============================] - 8s 36ms/step - loss: 0.0014 - root_mean_squared_error: 0.0372 - val_loss: 0.0030 - val_root_mean_squared_error: 0.0550\n",
            "Epoch 16/30\n",
            "233/233 [==============================] - 3s 13ms/step - loss: 0.0014 - root_mean_squared_error: 0.0374 - val_loss: 0.0032 - val_root_mean_squared_error: 0.0566\n",
            "Epoch 17/30\n",
            "233/233 [==============================] - 3s 13ms/step - loss: 0.0014 - root_mean_squared_error: 0.0372 - val_loss: 0.0031 - val_root_mean_squared_error: 0.0553\n",
            "Epoch 18/30\n",
            "233/233 [==============================] - ETA: 0s - loss: 0.0014 - root_mean_squared_error: 0.0370"
          ]
        },
        {
          "output_type": "stream",
          "name": "stderr",
          "text": [
            "WARNING:absl:Found untraced functions such as lstm_cell_2_layer_call_fn, lstm_cell_2_layer_call_and_return_conditional_losses while saving (showing 2 of 2). These functions will not be directly callable after loading.\n"
          ]
        },
        {
          "output_type": "stream",
          "name": "stdout",
          "text": [
            "INFO:tensorflow:Assets written to: model4/assets\n"
          ]
        },
        {
          "output_type": "stream",
          "name": "stderr",
          "text": [
            "INFO:tensorflow:Assets written to: model4/assets\n",
            "WARNING:absl:<keras.layers.recurrent.LSTMCell object at 0x7fdb5d6d7090> has the same name 'LSTMCell' as a built-in Keras object. Consider renaming <class 'keras.layers.recurrent.LSTMCell'> to avoid naming conflicts when loading with `tf.keras.models.load_model`. If renaming is not possible, pass the object in the `custom_objects` parameter of the load function.\n"
          ]
        },
        {
          "output_type": "stream",
          "name": "stdout",
          "text": [
            "\b\b\b\b\b\b\b\b\b\b\b\b\b\b\b\b\b\b\b\b\b\b\b\b\b\b\b\b\b\b\b\b\b\b\b\b\b\b\b\b\b\b\b\b\b\b\b\b\b\b\b\b\b\b\b\b\b\b\b\b\b\b\b\b\b\b\b\b\b\b\b\b\b\b\b\b\b\b\b\b\b\b\b\b\b\b\b\b\b\b\b\b\b\b\b\b\b\b\b\r233/233 [==============================] - 8s 34ms/step - loss: 0.0014 - root_mean_squared_error: 0.0370 - val_loss: 0.0030 - val_root_mean_squared_error: 0.0547\n",
            "Epoch 19/30\n",
            "233/233 [==============================] - 3s 13ms/step - loss: 0.0014 - root_mean_squared_error: 0.0369 - val_loss: 0.0032 - val_root_mean_squared_error: 0.0565\n",
            "Epoch 20/30\n",
            "233/233 [==============================] - 3s 13ms/step - loss: 0.0014 - root_mean_squared_error: 0.0369 - val_loss: 0.0035 - val_root_mean_squared_error: 0.0595\n",
            "Epoch 21/30\n",
            "233/233 [==============================] - 3s 13ms/step - loss: 0.0014 - root_mean_squared_error: 0.0371 - val_loss: 0.0031 - val_root_mean_squared_error: 0.0558\n",
            "Epoch 22/30\n",
            "233/233 [==============================] - 3s 14ms/step - loss: 0.0014 - root_mean_squared_error: 0.0368 - val_loss: 0.0030 - val_root_mean_squared_error: 0.0549\n",
            "Epoch 23/30\n",
            "233/233 [==============================] - 3s 14ms/step - loss: 0.0013 - root_mean_squared_error: 0.0366 - val_loss: 0.0031 - val_root_mean_squared_error: 0.0554\n",
            "Epoch 24/30\n",
            "233/233 [==============================] - 3s 14ms/step - loss: 0.0013 - root_mean_squared_error: 0.0367 - val_loss: 0.0030 - val_root_mean_squared_error: 0.0549\n",
            "Epoch 25/30\n",
            "233/233 [==============================] - 3s 14ms/step - loss: 0.0013 - root_mean_squared_error: 0.0367 - val_loss: 0.0031 - val_root_mean_squared_error: 0.0557\n",
            "Epoch 26/30\n",
            "233/233 [==============================] - 3s 13ms/step - loss: 0.0013 - root_mean_squared_error: 0.0365 - val_loss: 0.0031 - val_root_mean_squared_error: 0.0553\n",
            "Epoch 27/30\n",
            "233/233 [==============================] - 3s 13ms/step - loss: 0.0013 - root_mean_squared_error: 0.0366 - val_loss: 0.0032 - val_root_mean_squared_error: 0.0564\n",
            "Epoch 28/30\n",
            "233/233 [==============================] - 3s 13ms/step - loss: 0.0013 - root_mean_squared_error: 0.0363 - val_loss: 0.0031 - val_root_mean_squared_error: 0.0557\n",
            "Epoch 29/30\n",
            "233/233 [==============================] - 3s 13ms/step - loss: 0.0013 - root_mean_squared_error: 0.0362 - val_loss: 0.0033 - val_root_mean_squared_error: 0.0571\n",
            "Epoch 30/30\n",
            "233/233 [==============================] - 3s 13ms/step - loss: 0.0014 - root_mean_squared_error: 0.0368 - val_loss: 0.0030 - val_root_mean_squared_error: 0.0551\n"
          ]
        },
        {
          "output_type": "execute_result",
          "data": {
            "text/plain": [
              "<keras.callbacks.History at 0x7fdb5ac7ed90>"
            ]
          },
          "metadata": {},
          "execution_count": 39
        }
      ]
    },
    {
      "cell_type": "code",
      "source": [
        "plot_predictions1(model4,X_test1,y_test1)"
      ],
      "metadata": {
        "colab": {
          "base_uri": "https://localhost:8080/",
          "height": 710
        },
        "id": "aYZkCA3E5Ti8",
        "outputId": "7ce886a2-8a29-4a9f-d587-2901d804b146"
      },
      "execution_count": null,
      "outputs": [
        {
          "output_type": "execute_result",
          "data": {
            "text/plain": [
              "(      predictions   Actuals\n",
              " 0        0.015158  0.017457\n",
              " 1        0.012099  0.017099\n",
              " 2        0.013053  0.016920\n",
              " 3        0.012045  0.016473\n",
              " 4        0.010981  0.016204\n",
              " ...           ...       ...\n",
              " 1109     0.015376  0.012981\n",
              " 1110     0.015500  0.012444\n",
              " 1111     0.013051  0.012175\n",
              " 1112     0.012553  0.011728\n",
              " 1113     0.011993  0.011728\n",
              " \n",
              " [1114 rows x 2 columns], 0.0011489960791046569)"
            ]
          },
          "metadata": {},
          "execution_count": 40
        },
        {
          "output_type": "display_data",
          "data": {
            "text/plain": [
              "<Figure size 1728x576 with 1 Axes>"
            ],
            "image/png": "[encoded data removed]"
          },
          "metadata": {
            "needs_background": "light"
          }
        }
      ]
    },
    {
      "cell_type": "code",
      "source": [
        "model5=Sequential()\n",
        "model5.add(InputLayer((X_train1.shape[1],X_train1.shape[2])))\n",
        "model5.add(Conv1D(128, kernel_size=2))\n",
        "model5.add(MaxPooling1D(pool_size=2))\n",
        "model5.add(GRU(128))\n",
        "model5.add(Dense(128,'relu'))\n",
        "model5.add(Dense(128,'relu'))\n",
        "model5.add(Dense(1,'linear'))\n",
        "model5.summary()"
      ],
      "metadata": {
        "colab": {
          "base_uri": "https://localhost:8080/"
        },
        "id": "S8MR6oZV5n-g",
        "outputId": "7bcf0013-a024-43d9-9989-fa17f6dbab31"
      },
      "execution_count": null,
      "outputs": [
        {
          "output_type": "stream",
          "name": "stdout",
          "text": [
            "Model: \"sequential_4\"\n",
            "_________________________________________________________________\n",
            " Layer (type)                Output Shape              Param #   \n",
            "=================================================================\n",
            " conv1d_2 (Conv1D)           (None, 11, 128)           2176      \n",
            "                                                                 \n",
            " max_pooling1d_1 (MaxPooling  (None, 5, 128)           0         \n",
            " 1D)                                                             \n",
            "                                                                 \n",
            " gru_1 (GRU)                 (None, 128)               99072     \n",
            "                                                                 \n",
            " dense_12 (Dense)            (None, 128)               16512     \n",
            "                                                                 \n",
            " dense_13 (Dense)            (None, 128)               16512     \n",
            "                                                                 \n",
            " dense_14 (Dense)            (None, 1)                 129       \n",
            "                                                                 \n",
            "=================================================================\n",
            "Total params: 134,401\n",
            "Trainable params: 134,401\n",
            "Non-trainable params: 0\n",
            "_________________________________________________________________\n"
          ]
        }
      ]
    },
    {
      "cell_type": "code",
      "source": [
        "cp5=ModelCheckpoint('model5/', save_best_only=True)\n",
        "model5.compile(loss=MeanSquaredError(), optimizer='adam', metrics=[RootMeanSquaredError()])"
      ],
      "metadata": {
        "id": "zcIJuEFV6Idq"
      },
      "execution_count": null,
      "outputs": []
    },
    {
      "cell_type": "code",
      "source": [
        "model5.fit(X_train1,y_train1, validation_data=(X_val1,y_val1), epochs=30, callbacks=[cp5])"
      ],
      "metadata": {
        "colab": {
          "base_uri": "https://localhost:8080/"
        },
        "id": "pxPl2R6c6MwX",
        "outputId": "580cdedd-818a-46a4-a225-d1b8817a0935"
      },
      "execution_count": null,
      "outputs": [
        {
          "output_type": "stream",
          "name": "stdout",
          "text": [
            "Epoch 1/30\n",
            "233/233 [==============================] - ETA: 0s - loss: 0.0017 - root_mean_squared_error: 0.0418"
          ]
        },
        {
          "output_type": "stream",
          "name": "stderr",
          "text": [
            "WARNING:absl:Found untraced functions such as gru_cell_1_layer_call_fn, gru_cell_1_layer_call_and_return_conditional_losses while saving (showing 2 of 2). These functions will not be directly callable after loading.\n"
          ]
        },
        {
          "output_type": "stream",
          "name": "stdout",
          "text": [
            "INFO:tensorflow:Assets written to: model5/assets\n"
          ]
        },
        {
          "output_type": "stream",
          "name": "stderr",
          "text": [
            "INFO:tensorflow:Assets written to: model5/assets\n",
            "WARNING:absl:<keras.layers.recurrent.GRUCell object at 0x7fdb552b7dd0> has the same name 'GRUCell' as a built-in Keras object. Consider renaming <class 'keras.layers.recurrent.GRUCell'> to avoid naming conflicts when loading with `tf.keras.models.load_model`. If renaming is not possible, pass the object in the `custom_objects` parameter of the load function.\n"
          ]
        },
        {
          "output_type": "stream",
          "name": "stdout",
          "text": [
            "\b\b\b\b\b\b\b\b\b\b\b\b\b\b\b\b\b\b\b\b\b\b\b\b\b\b\b\b\b\b\b\b\b\b\b\b\b\b\b\b\b\b\b\b\b\b\b\b\b\b\b\b\b\b\b\b\b\b\b\b\b\b\b\b\b\b\b\b\b\b\b\b\b\b\b\b\b\b\b\b\b\b\b\b\b\b\b\b\b\b\b\b\b\b\b\b\b\b\b\r233/233 [==============================] - 12s 39ms/step - loss: 0.0017 - root_mean_squared_error: 0.0418 - val_loss: 0.0033 - val_root_mean_squared_error: 0.0571\n",
            "Epoch 2/30\n",
            "229/233 [============================>.] - ETA: 0s - loss: 0.0015 - root_mean_squared_error: 0.0382"
          ]
        },
        {
          "output_type": "stream",
          "name": "stderr",
          "text": [
            "WARNING:absl:Found untraced functions such as gru_cell_1_layer_call_fn, gru_cell_1_layer_call_and_return_conditional_losses while saving (showing 2 of 2). These functions will not be directly callable after loading.\n"
          ]
        },
        {
          "output_type": "stream",
          "name": "stdout",
          "text": [
            "INFO:tensorflow:Assets written to: model5/assets\n"
          ]
        },
        {
          "output_type": "stream",
          "name": "stderr",
          "text": [
            "INFO:tensorflow:Assets written to: model5/assets\n",
            "WARNING:absl:<keras.layers.recurrent.GRUCell object at 0x7fdb552b7dd0> has the same name 'GRUCell' as a built-in Keras object. Consider renaming <class 'keras.layers.recurrent.GRUCell'> to avoid naming conflicts when loading with `tf.keras.models.load_model`. If renaming is not possible, pass the object in the `custom_objects` parameter of the load function.\n"
          ]
        },
        {
          "output_type": "stream",
          "name": "stdout",
          "text": [
            "\b\b\b\b\b\b\b\b\b\b\b\b\b\b\b\b\b\b\b\b\b\b\b\b\b\b\b\b\b\b\b\b\b\b\b\b\b\b\b\b\b\b\b\b\b\b\b\b\b\b\b\b\b\b\b\b\b\b\b\b\b\b\b\b\b\b\b\b\b\b\b\b\b\b\b\b\b\b\b\b\b\b\b\b\b\b\b\b\b\b\b\b\b\b\b\b\b\b\b\r233/233 [==============================] - 8s 33ms/step - loss: 0.0015 - root_mean_squared_error: 0.0385 - val_loss: 0.0032 - val_root_mean_squared_error: 0.0569\n",
            "Epoch 3/30\n",
            "233/233 [==============================] - 3s 12ms/step - loss: 0.0014 - root_mean_squared_error: 0.0381 - val_loss: 0.0037 - val_root_mean_squared_error: 0.0612\n",
            "Epoch 4/30\n",
            "231/233 [============================>.] - ETA: 0s - loss: 0.0015 - root_mean_squared_error: 0.0381"
          ]
        },
        {
          "output_type": "stream",
          "name": "stderr",
          "text": [
            "WARNING:absl:Found untraced functions such as gru_cell_1_layer_call_fn, gru_cell_1_layer_call_and_return_conditional_losses while saving (showing 2 of 2). These functions will not be directly callable after loading.\n"
          ]
        },
        {
          "output_type": "stream",
          "name": "stdout",
          "text": [
            "INFO:tensorflow:Assets written to: model5/assets\n"
          ]
        },
        {
          "output_type": "stream",
          "name": "stderr",
          "text": [
            "INFO:tensorflow:Assets written to: model5/assets\n",
            "WARNING:absl:<keras.layers.recurrent.GRUCell object at 0x7fdb552b7dd0> has the same name 'GRUCell' as a built-in Keras object. Consider renaming <class 'keras.layers.recurrent.GRUCell'> to avoid naming conflicts when loading with `tf.keras.models.load_model`. If renaming is not possible, pass the object in the `custom_objects` parameter of the load function.\n"
          ]
        },
        {
          "output_type": "stream",
          "name": "stdout",
          "text": [
            "\b\b\b\b\b\b\b\b\b\b\b\b\b\b\b\b\b\b\b\b\b\b\b\b\b\b\b\b\b\b\b\b\b\b\b\b\b\b\b\b\b\b\b\b\b\b\b\b\b\b\b\b\b\b\b\b\b\b\b\b\b\b\b\b\b\b\b\b\b\b\b\b\b\b\b\b\b\b\b\b\b\b\b\b\b\b\b\b\b\b\b\b\b\b\b\b\b\b\b\r233/233 [==============================] - 8s 36ms/step - loss: 0.0014 - root_mean_squared_error: 0.0380 - val_loss: 0.0030 - val_root_mean_squared_error: 0.0551\n",
            "Epoch 5/30\n",
            "233/233 [==============================] - 3s 12ms/step - loss: 0.0014 - root_mean_squared_error: 0.0378 - val_loss: 0.0031 - val_root_mean_squared_error: 0.0552\n",
            "Epoch 6/30\n",
            "233/233 [==============================] - 3s 12ms/step - loss: 0.0014 - root_mean_squared_error: 0.0379 - val_loss: 0.0031 - val_root_mean_squared_error: 0.0556\n",
            "Epoch 7/30\n",
            "233/233 [==============================] - 3s 12ms/step - loss: 0.0014 - root_mean_squared_error: 0.0377 - val_loss: 0.0033 - val_root_mean_squared_error: 0.0570\n",
            "Epoch 8/30\n",
            "233/233 [==============================] - 3s 12ms/step - loss: 0.0014 - root_mean_squared_error: 0.0374 - val_loss: 0.0035 - val_root_mean_squared_error: 0.0591\n",
            "Epoch 9/30\n",
            "233/233 [==============================] - ETA: 0s - loss: 0.0014 - root_mean_squared_error: 0.0374"
          ]
        },
        {
          "output_type": "stream",
          "name": "stderr",
          "text": [
            "WARNING:absl:Found untraced functions such as gru_cell_1_layer_call_fn, gru_cell_1_layer_call_and_return_conditional_losses while saving (showing 2 of 2). These functions will not be directly callable after loading.\n"
          ]
        },
        {
          "output_type": "stream",
          "name": "stdout",
          "text": [
            "INFO:tensorflow:Assets written to: model5/assets\n"
          ]
        },
        {
          "output_type": "stream",
          "name": "stderr",
          "text": [
            "INFO:tensorflow:Assets written to: model5/assets\n",
            "WARNING:absl:<keras.layers.recurrent.GRUCell object at 0x7fdb552b7dd0> has the same name 'GRUCell' as a built-in Keras object. Consider renaming <class 'keras.layers.recurrent.GRUCell'> to avoid naming conflicts when loading with `tf.keras.models.load_model`. If renaming is not possible, pass the object in the `custom_objects` parameter of the load function.\n"
          ]
        },
        {
          "output_type": "stream",
          "name": "stdout",
          "text": [
            "\b\b\b\b\b\b\b\b\b\b\b\b\b\b\b\b\b\b\b\b\b\b\b\b\b\b\b\b\b\b\b\b\b\b\b\b\b\b\b\b\b\b\b\b\b\b\b\b\b\b\b\b\b\b\b\b\b\b\b\b\b\b\b\b\b\b\b\b\b\b\b\b\b\b\b\b\b\b\b\b\b\b\b\b\b\b\b\b\b\b\b\b\b\b\b\b\b\b\b\r233/233 [==============================] - 8s 33ms/step - loss: 0.0014 - root_mean_squared_error: 0.0374 - val_loss: 0.0030 - val_root_mean_squared_error: 0.0551\n",
            "Epoch 10/30\n",
            "233/233 [==============================] - 3s 12ms/step - loss: 0.0014 - root_mean_squared_error: 0.0375 - val_loss: 0.0031 - val_root_mean_squared_error: 0.0553\n",
            "Epoch 11/30\n",
            "233/233 [==============================] - 3s 12ms/step - loss: 0.0014 - root_mean_squared_error: 0.0379 - val_loss: 0.0031 - val_root_mean_squared_error: 0.0553\n",
            "Epoch 12/30\n",
            "233/233 [==============================] - 3s 11ms/step - loss: 0.0014 - root_mean_squared_error: 0.0376 - val_loss: 0.0031 - val_root_mean_squared_error: 0.0555\n",
            "Epoch 13/30\n",
            "233/233 [==============================] - 3s 11ms/step - loss: 0.0014 - root_mean_squared_error: 0.0374 - val_loss: 0.0031 - val_root_mean_squared_error: 0.0555\n",
            "Epoch 14/30\n",
            "233/233 [==============================] - 3s 11ms/step - loss: 0.0014 - root_mean_squared_error: 0.0374 - val_loss: 0.0031 - val_root_mean_squared_error: 0.0558\n",
            "Epoch 15/30\n",
            "233/233 [==============================] - 3s 12ms/step - loss: 0.0014 - root_mean_squared_error: 0.0373 - val_loss: 0.0030 - val_root_mean_squared_error: 0.0552\n",
            "Epoch 16/30\n",
            "232/233 [============================>.] - ETA: 0s - loss: 0.0014 - root_mean_squared_error: 0.0374"
          ]
        },
        {
          "output_type": "stream",
          "name": "stderr",
          "text": [
            "WARNING:absl:Found untraced functions such as gru_cell_1_layer_call_fn, gru_cell_1_layer_call_and_return_conditional_losses while saving (showing 2 of 2). These functions will not be directly callable after loading.\n"
          ]
        },
        {
          "output_type": "stream",
          "name": "stdout",
          "text": [
            "INFO:tensorflow:Assets written to: model5/assets\n"
          ]
        },
        {
          "output_type": "stream",
          "name": "stderr",
          "text": [
            "INFO:tensorflow:Assets written to: model5/assets\n",
            "WARNING:absl:<keras.layers.recurrent.GRUCell object at 0x7fdb552b7dd0> has the same name 'GRUCell' as a built-in Keras object. Consider renaming <class 'keras.layers.recurrent.GRUCell'> to avoid naming conflicts when loading with `tf.keras.models.load_model`. If renaming is not possible, pass the object in the `custom_objects` parameter of the load function.\n"
          ]
        },
        {
          "output_type": "stream",
          "name": "stdout",
          "text": [
            "\b\b\b\b\b\b\b\b\b\b\b\b\b\b\b\b\b\b\b\b\b\b\b\b\b\b\b\b\b\b\b\b\b\b\b\b\b\b\b\b\b\b\b\b\b\b\b\b\b\b\b\b\b\b\b\b\b\b\b\b\b\b\b\b\b\b\b\b\b\b\b\b\b\b\b\b\b\b\b\b\b\b\b\b\b\b\b\b\b\b\b\b\b\b\b\b\b\b\b\r233/233 [==============================] - 8s 35ms/step - loss: 0.0014 - root_mean_squared_error: 0.0373 - val_loss: 0.0030 - val_root_mean_squared_error: 0.0547\n",
            "Epoch 17/30\n",
            "233/233 [==============================] - 3s 12ms/step - loss: 0.0014 - root_mean_squared_error: 0.0372 - val_loss: 0.0030 - val_root_mean_squared_error: 0.0552\n",
            "Epoch 18/30\n",
            "233/233 [==============================] - 3s 13ms/step - loss: 0.0014 - root_mean_squared_error: 0.0370 - val_loss: 0.0032 - val_root_mean_squared_error: 0.0564\n",
            "Epoch 19/30\n",
            "233/233 [==============================] - 3s 12ms/step - loss: 0.0014 - root_mean_squared_error: 0.0372 - val_loss: 0.0030 - val_root_mean_squared_error: 0.0551\n",
            "Epoch 20/30\n",
            "233/233 [==============================] - 3s 12ms/step - loss: 0.0014 - root_mean_squared_error: 0.0374 - val_loss: 0.0031 - val_root_mean_squared_error: 0.0558\n",
            "Epoch 21/30\n",
            "233/233 [==============================] - 3s 12ms/step - loss: 0.0014 - root_mean_squared_error: 0.0370 - val_loss: 0.0031 - val_root_mean_squared_error: 0.0559\n",
            "Epoch 22/30\n",
            "233/233 [==============================] - 3s 12ms/step - loss: 0.0014 - root_mean_squared_error: 0.0368 - val_loss: 0.0030 - val_root_mean_squared_error: 0.0549\n",
            "Epoch 23/30\n",
            "233/233 [==============================] - 3s 12ms/step - loss: 0.0014 - root_mean_squared_error: 0.0371 - val_loss: 0.0030 - val_root_mean_squared_error: 0.0552\n",
            "Epoch 24/30\n",
            "233/233 [==============================] - 3s 12ms/step - loss: 0.0014 - root_mean_squared_error: 0.0368 - val_loss: 0.0031 - val_root_mean_squared_error: 0.0560\n",
            "Epoch 25/30\n",
            "233/233 [==============================] - 3s 12ms/step - loss: 0.0014 - root_mean_squared_error: 0.0369 - val_loss: 0.0030 - val_root_mean_squared_error: 0.0551\n",
            "Epoch 26/30\n",
            "233/233 [==============================] - 3s 11ms/step - loss: 0.0013 - root_mean_squared_error: 0.0366 - val_loss: 0.0030 - val_root_mean_squared_error: 0.0552\n",
            "Epoch 27/30\n",
            "233/233 [==============================] - 3s 12ms/step - loss: 0.0013 - root_mean_squared_error: 0.0365 - val_loss: 0.0032 - val_root_mean_squared_error: 0.0566\n",
            "Epoch 28/30\n",
            "233/233 [==============================] - 3s 12ms/step - loss: 0.0013 - root_mean_squared_error: 0.0363 - val_loss: 0.0032 - val_root_mean_squared_error: 0.0569\n",
            "Epoch 29/30\n",
            "233/233 [==============================] - 3s 12ms/step - loss: 0.0013 - root_mean_squared_error: 0.0363 - val_loss: 0.0031 - val_root_mean_squared_error: 0.0555\n",
            "Epoch 30/30\n",
            "233/233 [==============================] - 3s 12ms/step - loss: 0.0013 - root_mean_squared_error: 0.0364 - val_loss: 0.0030 - val_root_mean_squared_error: 0.0549\n"
          ]
        },
        {
          "output_type": "execute_result",
          "data": {
            "text/plain": [
              "<keras.callbacks.History at 0x7fdb5300be90>"
            ]
          },
          "metadata": {},
          "execution_count": 43
        }
      ]
    },
    {
      "cell_type": "code",
      "source": [
        "plot_predictions1(model5,X_test1,y_test1)"
      ],
      "metadata": {
        "colab": {
          "base_uri": "https://localhost:8080/",
          "height": 710
        },
        "id": "D6uPSJ7J6zLM",
        "outputId": "52512d53-5298-4dc1-da21-8aef7904f63f"
      },
      "execution_count": null,
      "outputs": [
        {
          "output_type": "execute_result",
          "data": {
            "text/plain": [
              "(      predictions   Actuals\n",
              " 0        0.026227  0.017457\n",
              " 1        0.020358  0.017099\n",
              " 2        0.024394  0.016920\n",
              " 3        0.022123  0.016473\n",
              " 4        0.017785  0.016204\n",
              " ...           ...       ...\n",
              " 1109     0.022939  0.012981\n",
              " 1110     0.023555  0.012444\n",
              " 1111     0.020115  0.012175\n",
              " 1112     0.019361  0.011728\n",
              " 1113     0.019433  0.011728\n",
              " \n",
              " [1114 rows x 2 columns], 0.0011939177900718678)"
            ]
          },
          "metadata": {},
          "execution_count": 44
        },
        {
          "output_type": "display_data",
          "data": {
            "text/plain": [
              "<Figure size 1728x576 with 1 Axes>"
            ],
            "image/png": "[encoded data removed]"
          },
          "metadata": {
            "needs_background": "light"
          }
        }
      ]
    }
  ]
}
